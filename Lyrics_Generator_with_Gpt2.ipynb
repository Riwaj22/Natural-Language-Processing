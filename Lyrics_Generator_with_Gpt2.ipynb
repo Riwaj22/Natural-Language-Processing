{
  "nbformat": 4,
  "nbformat_minor": 0,
  "metadata": {
    "colab": {
      "provenance": [],
      "gpuType": "T4"
    },
    "kernelspec": {
      "name": "python3",
      "display_name": "Python 3"
    },
    "language_info": {
      "name": "python"
    },
    "accelerator": "GPU",
    "widgets": {
      "application/vnd.jupyter.widget-state+json": {
        "5c7316345a0140a6991183d188823242": {
          "model_module": "@jupyter-widgets/controls",
          "model_name": "HBoxModel",
          "model_module_version": "1.5.0",
          "state": {
            "_dom_classes": [],
            "_model_module": "@jupyter-widgets/controls",
            "_model_module_version": "1.5.0",
            "_model_name": "HBoxModel",
            "_view_count": null,
            "_view_module": "@jupyter-widgets/controls",
            "_view_module_version": "1.5.0",
            "_view_name": "HBoxView",
            "box_style": "",
            "children": [
              "IPY_MODEL_244449afb70c48b5a33e6b4c2300bd0c",
              "IPY_MODEL_9f0211f180294119af262a62ca65e72c",
              "IPY_MODEL_efe9bfe2f5e949ecb8800c253d3b6a5a"
            ],
            "layout": "IPY_MODEL_8f5eaaf0cf88429e8345e17f14767052"
          }
        },
        "244449afb70c48b5a33e6b4c2300bd0c": {
          "model_module": "@jupyter-widgets/controls",
          "model_name": "HTMLModel",
          "model_module_version": "1.5.0",
          "state": {
            "_dom_classes": [],
            "_model_module": "@jupyter-widgets/controls",
            "_model_module_version": "1.5.0",
            "_model_name": "HTMLModel",
            "_view_count": null,
            "_view_module": "@jupyter-widgets/controls",
            "_view_module_version": "1.5.0",
            "_view_name": "HTMLView",
            "description": "",
            "description_tooltip": null,
            "layout": "IPY_MODEL_b8695d6dcf4247589984edf6db95a5fe",
            "placeholder": "​",
            "style": "IPY_MODEL_c7bf7fbd136e404e91409face2d43f9c",
            "value": "Generating train split: "
          }
        },
        "9f0211f180294119af262a62ca65e72c": {
          "model_module": "@jupyter-widgets/controls",
          "model_name": "FloatProgressModel",
          "model_module_version": "1.5.0",
          "state": {
            "_dom_classes": [],
            "_model_module": "@jupyter-widgets/controls",
            "_model_module_version": "1.5.0",
            "_model_name": "FloatProgressModel",
            "_view_count": null,
            "_view_module": "@jupyter-widgets/controls",
            "_view_module_version": "1.5.0",
            "_view_name": "ProgressView",
            "bar_style": "success",
            "description": "",
            "description_tooltip": null,
            "layout": "IPY_MODEL_b5189095470148899dc89bd356e1cc76",
            "max": 1,
            "min": 0,
            "orientation": "horizontal",
            "style": "IPY_MODEL_3e8288613bc9434093f4cbedd79aa013",
            "value": 1
          }
        },
        "efe9bfe2f5e949ecb8800c253d3b6a5a": {
          "model_module": "@jupyter-widgets/controls",
          "model_name": "HTMLModel",
          "model_module_version": "1.5.0",
          "state": {
            "_dom_classes": [],
            "_model_module": "@jupyter-widgets/controls",
            "_model_module_version": "1.5.0",
            "_model_name": "HTMLModel",
            "_view_count": null,
            "_view_module": "@jupyter-widgets/controls",
            "_view_module_version": "1.5.0",
            "_view_name": "HTMLView",
            "description": "",
            "description_tooltip": null,
            "layout": "IPY_MODEL_82144a5775b645659c81c25d79fdc5c4",
            "placeholder": "​",
            "style": "IPY_MODEL_b88818dbfed74c7180faa135a62a9e25",
            "value": " 290/0 [00:00&lt;00:00, 4153.29 examples/s]"
          }
        },
        "8f5eaaf0cf88429e8345e17f14767052": {
          "model_module": "@jupyter-widgets/base",
          "model_name": "LayoutModel",
          "model_module_version": "1.2.0",
          "state": {
            "_model_module": "@jupyter-widgets/base",
            "_model_module_version": "1.2.0",
            "_model_name": "LayoutModel",
            "_view_count": null,
            "_view_module": "@jupyter-widgets/base",
            "_view_module_version": "1.2.0",
            "_view_name": "LayoutView",
            "align_content": null,
            "align_items": null,
            "align_self": null,
            "border": null,
            "bottom": null,
            "display": null,
            "flex": null,
            "flex_flow": null,
            "grid_area": null,
            "grid_auto_columns": null,
            "grid_auto_flow": null,
            "grid_auto_rows": null,
            "grid_column": null,
            "grid_gap": null,
            "grid_row": null,
            "grid_template_areas": null,
            "grid_template_columns": null,
            "grid_template_rows": null,
            "height": null,
            "justify_content": null,
            "justify_items": null,
            "left": null,
            "margin": null,
            "max_height": null,
            "max_width": null,
            "min_height": null,
            "min_width": null,
            "object_fit": null,
            "object_position": null,
            "order": null,
            "overflow": null,
            "overflow_x": null,
            "overflow_y": null,
            "padding": null,
            "right": null,
            "top": null,
            "visibility": null,
            "width": null
          }
        },
        "b8695d6dcf4247589984edf6db95a5fe": {
          "model_module": "@jupyter-widgets/base",
          "model_name": "LayoutModel",
          "model_module_version": "1.2.0",
          "state": {
            "_model_module": "@jupyter-widgets/base",
            "_model_module_version": "1.2.0",
            "_model_name": "LayoutModel",
            "_view_count": null,
            "_view_module": "@jupyter-widgets/base",
            "_view_module_version": "1.2.0",
            "_view_name": "LayoutView",
            "align_content": null,
            "align_items": null,
            "align_self": null,
            "border": null,
            "bottom": null,
            "display": null,
            "flex": null,
            "flex_flow": null,
            "grid_area": null,
            "grid_auto_columns": null,
            "grid_auto_flow": null,
            "grid_auto_rows": null,
            "grid_column": null,
            "grid_gap": null,
            "grid_row": null,
            "grid_template_areas": null,
            "grid_template_columns": null,
            "grid_template_rows": null,
            "height": null,
            "justify_content": null,
            "justify_items": null,
            "left": null,
            "margin": null,
            "max_height": null,
            "max_width": null,
            "min_height": null,
            "min_width": null,
            "object_fit": null,
            "object_position": null,
            "order": null,
            "overflow": null,
            "overflow_x": null,
            "overflow_y": null,
            "padding": null,
            "right": null,
            "top": null,
            "visibility": null,
            "width": null
          }
        },
        "c7bf7fbd136e404e91409face2d43f9c": {
          "model_module": "@jupyter-widgets/controls",
          "model_name": "DescriptionStyleModel",
          "model_module_version": "1.5.0",
          "state": {
            "_model_module": "@jupyter-widgets/controls",
            "_model_module_version": "1.5.0",
            "_model_name": "DescriptionStyleModel",
            "_view_count": null,
            "_view_module": "@jupyter-widgets/base",
            "_view_module_version": "1.2.0",
            "_view_name": "StyleView",
            "description_width": ""
          }
        },
        "b5189095470148899dc89bd356e1cc76": {
          "model_module": "@jupyter-widgets/base",
          "model_name": "LayoutModel",
          "model_module_version": "1.2.0",
          "state": {
            "_model_module": "@jupyter-widgets/base",
            "_model_module_version": "1.2.0",
            "_model_name": "LayoutModel",
            "_view_count": null,
            "_view_module": "@jupyter-widgets/base",
            "_view_module_version": "1.2.0",
            "_view_name": "LayoutView",
            "align_content": null,
            "align_items": null,
            "align_self": null,
            "border": null,
            "bottom": null,
            "display": null,
            "flex": null,
            "flex_flow": null,
            "grid_area": null,
            "grid_auto_columns": null,
            "grid_auto_flow": null,
            "grid_auto_rows": null,
            "grid_column": null,
            "grid_gap": null,
            "grid_row": null,
            "grid_template_areas": null,
            "grid_template_columns": null,
            "grid_template_rows": null,
            "height": null,
            "justify_content": null,
            "justify_items": null,
            "left": null,
            "margin": null,
            "max_height": null,
            "max_width": null,
            "min_height": null,
            "min_width": null,
            "object_fit": null,
            "object_position": null,
            "order": null,
            "overflow": null,
            "overflow_x": null,
            "overflow_y": null,
            "padding": null,
            "right": null,
            "top": null,
            "visibility": null,
            "width": "20px"
          }
        },
        "3e8288613bc9434093f4cbedd79aa013": {
          "model_module": "@jupyter-widgets/controls",
          "model_name": "ProgressStyleModel",
          "model_module_version": "1.5.0",
          "state": {
            "_model_module": "@jupyter-widgets/controls",
            "_model_module_version": "1.5.0",
            "_model_name": "ProgressStyleModel",
            "_view_count": null,
            "_view_module": "@jupyter-widgets/base",
            "_view_module_version": "1.2.0",
            "_view_name": "StyleView",
            "bar_color": null,
            "description_width": ""
          }
        },
        "82144a5775b645659c81c25d79fdc5c4": {
          "model_module": "@jupyter-widgets/base",
          "model_name": "LayoutModel",
          "model_module_version": "1.2.0",
          "state": {
            "_model_module": "@jupyter-widgets/base",
            "_model_module_version": "1.2.0",
            "_model_name": "LayoutModel",
            "_view_count": null,
            "_view_module": "@jupyter-widgets/base",
            "_view_module_version": "1.2.0",
            "_view_name": "LayoutView",
            "align_content": null,
            "align_items": null,
            "align_self": null,
            "border": null,
            "bottom": null,
            "display": null,
            "flex": null,
            "flex_flow": null,
            "grid_area": null,
            "grid_auto_columns": null,
            "grid_auto_flow": null,
            "grid_auto_rows": null,
            "grid_column": null,
            "grid_gap": null,
            "grid_row": null,
            "grid_template_areas": null,
            "grid_template_columns": null,
            "grid_template_rows": null,
            "height": null,
            "justify_content": null,
            "justify_items": null,
            "left": null,
            "margin": null,
            "max_height": null,
            "max_width": null,
            "min_height": null,
            "min_width": null,
            "object_fit": null,
            "object_position": null,
            "order": null,
            "overflow": null,
            "overflow_x": null,
            "overflow_y": null,
            "padding": null,
            "right": null,
            "top": null,
            "visibility": null,
            "width": null
          }
        },
        "b88818dbfed74c7180faa135a62a9e25": {
          "model_module": "@jupyter-widgets/controls",
          "model_name": "DescriptionStyleModel",
          "model_module_version": "1.5.0",
          "state": {
            "_model_module": "@jupyter-widgets/controls",
            "_model_module_version": "1.5.0",
            "_model_name": "DescriptionStyleModel",
            "_view_count": null,
            "_view_module": "@jupyter-widgets/base",
            "_view_module_version": "1.2.0",
            "_view_name": "StyleView",
            "description_width": ""
          }
        },
        "e0f1896759ee4fca84a779a2c11ba42f": {
          "model_module": "@jupyter-widgets/controls",
          "model_name": "HBoxModel",
          "model_module_version": "1.5.0",
          "state": {
            "_dom_classes": [],
            "_model_module": "@jupyter-widgets/controls",
            "_model_module_version": "1.5.0",
            "_model_name": "HBoxModel",
            "_view_count": null,
            "_view_module": "@jupyter-widgets/controls",
            "_view_module_version": "1.5.0",
            "_view_name": "HBoxView",
            "box_style": "",
            "children": [
              "IPY_MODEL_803dcd1883164174b3746e7f9e7ac60d",
              "IPY_MODEL_10583e5124f44c13b898476bdc90e034",
              "IPY_MODEL_c78f2118b4004275808e925354c2d60b"
            ],
            "layout": "IPY_MODEL_3fcfb5aee2fe40c38e2eb0645ca56087"
          }
        },
        "803dcd1883164174b3746e7f9e7ac60d": {
          "model_module": "@jupyter-widgets/controls",
          "model_name": "HTMLModel",
          "model_module_version": "1.5.0",
          "state": {
            "_dom_classes": [],
            "_model_module": "@jupyter-widgets/controls",
            "_model_module_version": "1.5.0",
            "_model_name": "HTMLModel",
            "_view_count": null,
            "_view_module": "@jupyter-widgets/controls",
            "_view_module_version": "1.5.0",
            "_view_name": "HTMLView",
            "description": "",
            "description_tooltip": null,
            "layout": "IPY_MODEL_f978fae7752d46149f9e25d94b225a44",
            "placeholder": "​",
            "style": "IPY_MODEL_5ddd34f4a6394b7a8c441dbb6cefc767",
            "value": "tokenizer_config.json: 100%"
          }
        },
        "10583e5124f44c13b898476bdc90e034": {
          "model_module": "@jupyter-widgets/controls",
          "model_name": "FloatProgressModel",
          "model_module_version": "1.5.0",
          "state": {
            "_dom_classes": [],
            "_model_module": "@jupyter-widgets/controls",
            "_model_module_version": "1.5.0",
            "_model_name": "FloatProgressModel",
            "_view_count": null,
            "_view_module": "@jupyter-widgets/controls",
            "_view_module_version": "1.5.0",
            "_view_name": "ProgressView",
            "bar_style": "success",
            "description": "",
            "description_tooltip": null,
            "layout": "IPY_MODEL_41c5b9295f9e46a8860988cc3a189013",
            "max": 26,
            "min": 0,
            "orientation": "horizontal",
            "style": "IPY_MODEL_d67d68eb57cb45738b3014a3b80aea7b",
            "value": 26
          }
        },
        "c78f2118b4004275808e925354c2d60b": {
          "model_module": "@jupyter-widgets/controls",
          "model_name": "HTMLModel",
          "model_module_version": "1.5.0",
          "state": {
            "_dom_classes": [],
            "_model_module": "@jupyter-widgets/controls",
            "_model_module_version": "1.5.0",
            "_model_name": "HTMLModel",
            "_view_count": null,
            "_view_module": "@jupyter-widgets/controls",
            "_view_module_version": "1.5.0",
            "_view_name": "HTMLView",
            "description": "",
            "description_tooltip": null,
            "layout": "IPY_MODEL_d87a8ff06fb94de6917b743b3ac8a03a",
            "placeholder": "​",
            "style": "IPY_MODEL_39daa1a272fd475da1767eca67960ddf",
            "value": " 26.0/26.0 [00:00&lt;00:00, 685B/s]"
          }
        },
        "3fcfb5aee2fe40c38e2eb0645ca56087": {
          "model_module": "@jupyter-widgets/base",
          "model_name": "LayoutModel",
          "model_module_version": "1.2.0",
          "state": {
            "_model_module": "@jupyter-widgets/base",
            "_model_module_version": "1.2.0",
            "_model_name": "LayoutModel",
            "_view_count": null,
            "_view_module": "@jupyter-widgets/base",
            "_view_module_version": "1.2.0",
            "_view_name": "LayoutView",
            "align_content": null,
            "align_items": null,
            "align_self": null,
            "border": null,
            "bottom": null,
            "display": null,
            "flex": null,
            "flex_flow": null,
            "grid_area": null,
            "grid_auto_columns": null,
            "grid_auto_flow": null,
            "grid_auto_rows": null,
            "grid_column": null,
            "grid_gap": null,
            "grid_row": null,
            "grid_template_areas": null,
            "grid_template_columns": null,
            "grid_template_rows": null,
            "height": null,
            "justify_content": null,
            "justify_items": null,
            "left": null,
            "margin": null,
            "max_height": null,
            "max_width": null,
            "min_height": null,
            "min_width": null,
            "object_fit": null,
            "object_position": null,
            "order": null,
            "overflow": null,
            "overflow_x": null,
            "overflow_y": null,
            "padding": null,
            "right": null,
            "top": null,
            "visibility": null,
            "width": null
          }
        },
        "f978fae7752d46149f9e25d94b225a44": {
          "model_module": "@jupyter-widgets/base",
          "model_name": "LayoutModel",
          "model_module_version": "1.2.0",
          "state": {
            "_model_module": "@jupyter-widgets/base",
            "_model_module_version": "1.2.0",
            "_model_name": "LayoutModel",
            "_view_count": null,
            "_view_module": "@jupyter-widgets/base",
            "_view_module_version": "1.2.0",
            "_view_name": "LayoutView",
            "align_content": null,
            "align_items": null,
            "align_self": null,
            "border": null,
            "bottom": null,
            "display": null,
            "flex": null,
            "flex_flow": null,
            "grid_area": null,
            "grid_auto_columns": null,
            "grid_auto_flow": null,
            "grid_auto_rows": null,
            "grid_column": null,
            "grid_gap": null,
            "grid_row": null,
            "grid_template_areas": null,
            "grid_template_columns": null,
            "grid_template_rows": null,
            "height": null,
            "justify_content": null,
            "justify_items": null,
            "left": null,
            "margin": null,
            "max_height": null,
            "max_width": null,
            "min_height": null,
            "min_width": null,
            "object_fit": null,
            "object_position": null,
            "order": null,
            "overflow": null,
            "overflow_x": null,
            "overflow_y": null,
            "padding": null,
            "right": null,
            "top": null,
            "visibility": null,
            "width": null
          }
        },
        "5ddd34f4a6394b7a8c441dbb6cefc767": {
          "model_module": "@jupyter-widgets/controls",
          "model_name": "DescriptionStyleModel",
          "model_module_version": "1.5.0",
          "state": {
            "_model_module": "@jupyter-widgets/controls",
            "_model_module_version": "1.5.0",
            "_model_name": "DescriptionStyleModel",
            "_view_count": null,
            "_view_module": "@jupyter-widgets/base",
            "_view_module_version": "1.2.0",
            "_view_name": "StyleView",
            "description_width": ""
          }
        },
        "41c5b9295f9e46a8860988cc3a189013": {
          "model_module": "@jupyter-widgets/base",
          "model_name": "LayoutModel",
          "model_module_version": "1.2.0",
          "state": {
            "_model_module": "@jupyter-widgets/base",
            "_model_module_version": "1.2.0",
            "_model_name": "LayoutModel",
            "_view_count": null,
            "_view_module": "@jupyter-widgets/base",
            "_view_module_version": "1.2.0",
            "_view_name": "LayoutView",
            "align_content": null,
            "align_items": null,
            "align_self": null,
            "border": null,
            "bottom": null,
            "display": null,
            "flex": null,
            "flex_flow": null,
            "grid_area": null,
            "grid_auto_columns": null,
            "grid_auto_flow": null,
            "grid_auto_rows": null,
            "grid_column": null,
            "grid_gap": null,
            "grid_row": null,
            "grid_template_areas": null,
            "grid_template_columns": null,
            "grid_template_rows": null,
            "height": null,
            "justify_content": null,
            "justify_items": null,
            "left": null,
            "margin": null,
            "max_height": null,
            "max_width": null,
            "min_height": null,
            "min_width": null,
            "object_fit": null,
            "object_position": null,
            "order": null,
            "overflow": null,
            "overflow_x": null,
            "overflow_y": null,
            "padding": null,
            "right": null,
            "top": null,
            "visibility": null,
            "width": null
          }
        },
        "d67d68eb57cb45738b3014a3b80aea7b": {
          "model_module": "@jupyter-widgets/controls",
          "model_name": "ProgressStyleModel",
          "model_module_version": "1.5.0",
          "state": {
            "_model_module": "@jupyter-widgets/controls",
            "_model_module_version": "1.5.0",
            "_model_name": "ProgressStyleModel",
            "_view_count": null,
            "_view_module": "@jupyter-widgets/base",
            "_view_module_version": "1.2.0",
            "_view_name": "StyleView",
            "bar_color": null,
            "description_width": ""
          }
        },
        "d87a8ff06fb94de6917b743b3ac8a03a": {
          "model_module": "@jupyter-widgets/base",
          "model_name": "LayoutModel",
          "model_module_version": "1.2.0",
          "state": {
            "_model_module": "@jupyter-widgets/base",
            "_model_module_version": "1.2.0",
            "_model_name": "LayoutModel",
            "_view_count": null,
            "_view_module": "@jupyter-widgets/base",
            "_view_module_version": "1.2.0",
            "_view_name": "LayoutView",
            "align_content": null,
            "align_items": null,
            "align_self": null,
            "border": null,
            "bottom": null,
            "display": null,
            "flex": null,
            "flex_flow": null,
            "grid_area": null,
            "grid_auto_columns": null,
            "grid_auto_flow": null,
            "grid_auto_rows": null,
            "grid_column": null,
            "grid_gap": null,
            "grid_row": null,
            "grid_template_areas": null,
            "grid_template_columns": null,
            "grid_template_rows": null,
            "height": null,
            "justify_content": null,
            "justify_items": null,
            "left": null,
            "margin": null,
            "max_height": null,
            "max_width": null,
            "min_height": null,
            "min_width": null,
            "object_fit": null,
            "object_position": null,
            "order": null,
            "overflow": null,
            "overflow_x": null,
            "overflow_y": null,
            "padding": null,
            "right": null,
            "top": null,
            "visibility": null,
            "width": null
          }
        },
        "39daa1a272fd475da1767eca67960ddf": {
          "model_module": "@jupyter-widgets/controls",
          "model_name": "DescriptionStyleModel",
          "model_module_version": "1.5.0",
          "state": {
            "_model_module": "@jupyter-widgets/controls",
            "_model_module_version": "1.5.0",
            "_model_name": "DescriptionStyleModel",
            "_view_count": null,
            "_view_module": "@jupyter-widgets/base",
            "_view_module_version": "1.2.0",
            "_view_name": "StyleView",
            "description_width": ""
          }
        },
        "0317d20256cf48f7a0c169d37774ce9f": {
          "model_module": "@jupyter-widgets/controls",
          "model_name": "HBoxModel",
          "model_module_version": "1.5.0",
          "state": {
            "_dom_classes": [],
            "_model_module": "@jupyter-widgets/controls",
            "_model_module_version": "1.5.0",
            "_model_name": "HBoxModel",
            "_view_count": null,
            "_view_module": "@jupyter-widgets/controls",
            "_view_module_version": "1.5.0",
            "_view_name": "HBoxView",
            "box_style": "",
            "children": [
              "IPY_MODEL_6b63c51b740e44f9ab7f51ecfc12e9b4",
              "IPY_MODEL_6f57e6463269411b84dbc7e3b880c90d",
              "IPY_MODEL_0bcc7f4b15154f54a0bc18efc312ee72"
            ],
            "layout": "IPY_MODEL_d23f52ed65984bcbbf3ed8366521cf31"
          }
        },
        "6b63c51b740e44f9ab7f51ecfc12e9b4": {
          "model_module": "@jupyter-widgets/controls",
          "model_name": "HTMLModel",
          "model_module_version": "1.5.0",
          "state": {
            "_dom_classes": [],
            "_model_module": "@jupyter-widgets/controls",
            "_model_module_version": "1.5.0",
            "_model_name": "HTMLModel",
            "_view_count": null,
            "_view_module": "@jupyter-widgets/controls",
            "_view_module_version": "1.5.0",
            "_view_name": "HTMLView",
            "description": "",
            "description_tooltip": null,
            "layout": "IPY_MODEL_0f96f3fe452f4d16811a85318ec1551a",
            "placeholder": "​",
            "style": "IPY_MODEL_e08a431d3c064711806bfa3cfd3e4960",
            "value": "vocab.json: 100%"
          }
        },
        "6f57e6463269411b84dbc7e3b880c90d": {
          "model_module": "@jupyter-widgets/controls",
          "model_name": "FloatProgressModel",
          "model_module_version": "1.5.0",
          "state": {
            "_dom_classes": [],
            "_model_module": "@jupyter-widgets/controls",
            "_model_module_version": "1.5.0",
            "_model_name": "FloatProgressModel",
            "_view_count": null,
            "_view_module": "@jupyter-widgets/controls",
            "_view_module_version": "1.5.0",
            "_view_name": "ProgressView",
            "bar_style": "success",
            "description": "",
            "description_tooltip": null,
            "layout": "IPY_MODEL_97815fc4aac34976b6956d39f15f80c5",
            "max": 1042301,
            "min": 0,
            "orientation": "horizontal",
            "style": "IPY_MODEL_38fb693681a64487861b861320a565a2",
            "value": 1042301
          }
        },
        "0bcc7f4b15154f54a0bc18efc312ee72": {
          "model_module": "@jupyter-widgets/controls",
          "model_name": "HTMLModel",
          "model_module_version": "1.5.0",
          "state": {
            "_dom_classes": [],
            "_model_module": "@jupyter-widgets/controls",
            "_model_module_version": "1.5.0",
            "_model_name": "HTMLModel",
            "_view_count": null,
            "_view_module": "@jupyter-widgets/controls",
            "_view_module_version": "1.5.0",
            "_view_name": "HTMLView",
            "description": "",
            "description_tooltip": null,
            "layout": "IPY_MODEL_771289196ff2404da0701e8c8935c254",
            "placeholder": "​",
            "style": "IPY_MODEL_d896f24f690a468f95182f9127c4b755",
            "value": " 1.04M/1.04M [00:00&lt;00:00, 4.06MB/s]"
          }
        },
        "d23f52ed65984bcbbf3ed8366521cf31": {
          "model_module": "@jupyter-widgets/base",
          "model_name": "LayoutModel",
          "model_module_version": "1.2.0",
          "state": {
            "_model_module": "@jupyter-widgets/base",
            "_model_module_version": "1.2.0",
            "_model_name": "LayoutModel",
            "_view_count": null,
            "_view_module": "@jupyter-widgets/base",
            "_view_module_version": "1.2.0",
            "_view_name": "LayoutView",
            "align_content": null,
            "align_items": null,
            "align_self": null,
            "border": null,
            "bottom": null,
            "display": null,
            "flex": null,
            "flex_flow": null,
            "grid_area": null,
            "grid_auto_columns": null,
            "grid_auto_flow": null,
            "grid_auto_rows": null,
            "grid_column": null,
            "grid_gap": null,
            "grid_row": null,
            "grid_template_areas": null,
            "grid_template_columns": null,
            "grid_template_rows": null,
            "height": null,
            "justify_content": null,
            "justify_items": null,
            "left": null,
            "margin": null,
            "max_height": null,
            "max_width": null,
            "min_height": null,
            "min_width": null,
            "object_fit": null,
            "object_position": null,
            "order": null,
            "overflow": null,
            "overflow_x": null,
            "overflow_y": null,
            "padding": null,
            "right": null,
            "top": null,
            "visibility": null,
            "width": null
          }
        },
        "0f96f3fe452f4d16811a85318ec1551a": {
          "model_module": "@jupyter-widgets/base",
          "model_name": "LayoutModel",
          "model_module_version": "1.2.0",
          "state": {
            "_model_module": "@jupyter-widgets/base",
            "_model_module_version": "1.2.0",
            "_model_name": "LayoutModel",
            "_view_count": null,
            "_view_module": "@jupyter-widgets/base",
            "_view_module_version": "1.2.0",
            "_view_name": "LayoutView",
            "align_content": null,
            "align_items": null,
            "align_self": null,
            "border": null,
            "bottom": null,
            "display": null,
            "flex": null,
            "flex_flow": null,
            "grid_area": null,
            "grid_auto_columns": null,
            "grid_auto_flow": null,
            "grid_auto_rows": null,
            "grid_column": null,
            "grid_gap": null,
            "grid_row": null,
            "grid_template_areas": null,
            "grid_template_columns": null,
            "grid_template_rows": null,
            "height": null,
            "justify_content": null,
            "justify_items": null,
            "left": null,
            "margin": null,
            "max_height": null,
            "max_width": null,
            "min_height": null,
            "min_width": null,
            "object_fit": null,
            "object_position": null,
            "order": null,
            "overflow": null,
            "overflow_x": null,
            "overflow_y": null,
            "padding": null,
            "right": null,
            "top": null,
            "visibility": null,
            "width": null
          }
        },
        "e08a431d3c064711806bfa3cfd3e4960": {
          "model_module": "@jupyter-widgets/controls",
          "model_name": "DescriptionStyleModel",
          "model_module_version": "1.5.0",
          "state": {
            "_model_module": "@jupyter-widgets/controls",
            "_model_module_version": "1.5.0",
            "_model_name": "DescriptionStyleModel",
            "_view_count": null,
            "_view_module": "@jupyter-widgets/base",
            "_view_module_version": "1.2.0",
            "_view_name": "StyleView",
            "description_width": ""
          }
        },
        "97815fc4aac34976b6956d39f15f80c5": {
          "model_module": "@jupyter-widgets/base",
          "model_name": "LayoutModel",
          "model_module_version": "1.2.0",
          "state": {
            "_model_module": "@jupyter-widgets/base",
            "_model_module_version": "1.2.0",
            "_model_name": "LayoutModel",
            "_view_count": null,
            "_view_module": "@jupyter-widgets/base",
            "_view_module_version": "1.2.0",
            "_view_name": "LayoutView",
            "align_content": null,
            "align_items": null,
            "align_self": null,
            "border": null,
            "bottom": null,
            "display": null,
            "flex": null,
            "flex_flow": null,
            "grid_area": null,
            "grid_auto_columns": null,
            "grid_auto_flow": null,
            "grid_auto_rows": null,
            "grid_column": null,
            "grid_gap": null,
            "grid_row": null,
            "grid_template_areas": null,
            "grid_template_columns": null,
            "grid_template_rows": null,
            "height": null,
            "justify_content": null,
            "justify_items": null,
            "left": null,
            "margin": null,
            "max_height": null,
            "max_width": null,
            "min_height": null,
            "min_width": null,
            "object_fit": null,
            "object_position": null,
            "order": null,
            "overflow": null,
            "overflow_x": null,
            "overflow_y": null,
            "padding": null,
            "right": null,
            "top": null,
            "visibility": null,
            "width": null
          }
        },
        "38fb693681a64487861b861320a565a2": {
          "model_module": "@jupyter-widgets/controls",
          "model_name": "ProgressStyleModel",
          "model_module_version": "1.5.0",
          "state": {
            "_model_module": "@jupyter-widgets/controls",
            "_model_module_version": "1.5.0",
            "_model_name": "ProgressStyleModel",
            "_view_count": null,
            "_view_module": "@jupyter-widgets/base",
            "_view_module_version": "1.2.0",
            "_view_name": "StyleView",
            "bar_color": null,
            "description_width": ""
          }
        },
        "771289196ff2404da0701e8c8935c254": {
          "model_module": "@jupyter-widgets/base",
          "model_name": "LayoutModel",
          "model_module_version": "1.2.0",
          "state": {
            "_model_module": "@jupyter-widgets/base",
            "_model_module_version": "1.2.0",
            "_model_name": "LayoutModel",
            "_view_count": null,
            "_view_module": "@jupyter-widgets/base",
            "_view_module_version": "1.2.0",
            "_view_name": "LayoutView",
            "align_content": null,
            "align_items": null,
            "align_self": null,
            "border": null,
            "bottom": null,
            "display": null,
            "flex": null,
            "flex_flow": null,
            "grid_area": null,
            "grid_auto_columns": null,
            "grid_auto_flow": null,
            "grid_auto_rows": null,
            "grid_column": null,
            "grid_gap": null,
            "grid_row": null,
            "grid_template_areas": null,
            "grid_template_columns": null,
            "grid_template_rows": null,
            "height": null,
            "justify_content": null,
            "justify_items": null,
            "left": null,
            "margin": null,
            "max_height": null,
            "max_width": null,
            "min_height": null,
            "min_width": null,
            "object_fit": null,
            "object_position": null,
            "order": null,
            "overflow": null,
            "overflow_x": null,
            "overflow_y": null,
            "padding": null,
            "right": null,
            "top": null,
            "visibility": null,
            "width": null
          }
        },
        "d896f24f690a468f95182f9127c4b755": {
          "model_module": "@jupyter-widgets/controls",
          "model_name": "DescriptionStyleModel",
          "model_module_version": "1.5.0",
          "state": {
            "_model_module": "@jupyter-widgets/controls",
            "_model_module_version": "1.5.0",
            "_model_name": "DescriptionStyleModel",
            "_view_count": null,
            "_view_module": "@jupyter-widgets/base",
            "_view_module_version": "1.2.0",
            "_view_name": "StyleView",
            "description_width": ""
          }
        },
        "c147ebb954b94f9e91447ba370a882e3": {
          "model_module": "@jupyter-widgets/controls",
          "model_name": "HBoxModel",
          "model_module_version": "1.5.0",
          "state": {
            "_dom_classes": [],
            "_model_module": "@jupyter-widgets/controls",
            "_model_module_version": "1.5.0",
            "_model_name": "HBoxModel",
            "_view_count": null,
            "_view_module": "@jupyter-widgets/controls",
            "_view_module_version": "1.5.0",
            "_view_name": "HBoxView",
            "box_style": "",
            "children": [
              "IPY_MODEL_4b538461ff5a4eefae63bd3274ef2d37",
              "IPY_MODEL_eb8c26af124841118c1589b272d0a056",
              "IPY_MODEL_e330aec0641c4c1eb336fc31baf6bd24"
            ],
            "layout": "IPY_MODEL_f47b06ffab51489a80911dd84edafafc"
          }
        },
        "4b538461ff5a4eefae63bd3274ef2d37": {
          "model_module": "@jupyter-widgets/controls",
          "model_name": "HTMLModel",
          "model_module_version": "1.5.0",
          "state": {
            "_dom_classes": [],
            "_model_module": "@jupyter-widgets/controls",
            "_model_module_version": "1.5.0",
            "_model_name": "HTMLModel",
            "_view_count": null,
            "_view_module": "@jupyter-widgets/controls",
            "_view_module_version": "1.5.0",
            "_view_name": "HTMLView",
            "description": "",
            "description_tooltip": null,
            "layout": "IPY_MODEL_e0543f349f1f4b4e9a55abfe6e81ce1c",
            "placeholder": "​",
            "style": "IPY_MODEL_fa598b899407419e8ea6e84829ef7497",
            "value": "merges.txt: 100%"
          }
        },
        "eb8c26af124841118c1589b272d0a056": {
          "model_module": "@jupyter-widgets/controls",
          "model_name": "FloatProgressModel",
          "model_module_version": "1.5.0",
          "state": {
            "_dom_classes": [],
            "_model_module": "@jupyter-widgets/controls",
            "_model_module_version": "1.5.0",
            "_model_name": "FloatProgressModel",
            "_view_count": null,
            "_view_module": "@jupyter-widgets/controls",
            "_view_module_version": "1.5.0",
            "_view_name": "ProgressView",
            "bar_style": "success",
            "description": "",
            "description_tooltip": null,
            "layout": "IPY_MODEL_8c1172d335e3412fa27ce02edade39b2",
            "max": 456318,
            "min": 0,
            "orientation": "horizontal",
            "style": "IPY_MODEL_8251f6aba5fd4238971f701776920356",
            "value": 456318
          }
        },
        "e330aec0641c4c1eb336fc31baf6bd24": {
          "model_module": "@jupyter-widgets/controls",
          "model_name": "HTMLModel",
          "model_module_version": "1.5.0",
          "state": {
            "_dom_classes": [],
            "_model_module": "@jupyter-widgets/controls",
            "_model_module_version": "1.5.0",
            "_model_name": "HTMLModel",
            "_view_count": null,
            "_view_module": "@jupyter-widgets/controls",
            "_view_module_version": "1.5.0",
            "_view_name": "HTMLView",
            "description": "",
            "description_tooltip": null,
            "layout": "IPY_MODEL_5607e2906f50450897656c6b92344934",
            "placeholder": "​",
            "style": "IPY_MODEL_4bdf1737b39143a28eb07f5f821ea913",
            "value": " 456k/456k [00:00&lt;00:00, 10.8MB/s]"
          }
        },
        "f47b06ffab51489a80911dd84edafafc": {
          "model_module": "@jupyter-widgets/base",
          "model_name": "LayoutModel",
          "model_module_version": "1.2.0",
          "state": {
            "_model_module": "@jupyter-widgets/base",
            "_model_module_version": "1.2.0",
            "_model_name": "LayoutModel",
            "_view_count": null,
            "_view_module": "@jupyter-widgets/base",
            "_view_module_version": "1.2.0",
            "_view_name": "LayoutView",
            "align_content": null,
            "align_items": null,
            "align_self": null,
            "border": null,
            "bottom": null,
            "display": null,
            "flex": null,
            "flex_flow": null,
            "grid_area": null,
            "grid_auto_columns": null,
            "grid_auto_flow": null,
            "grid_auto_rows": null,
            "grid_column": null,
            "grid_gap": null,
            "grid_row": null,
            "grid_template_areas": null,
            "grid_template_columns": null,
            "grid_template_rows": null,
            "height": null,
            "justify_content": null,
            "justify_items": null,
            "left": null,
            "margin": null,
            "max_height": null,
            "max_width": null,
            "min_height": null,
            "min_width": null,
            "object_fit": null,
            "object_position": null,
            "order": null,
            "overflow": null,
            "overflow_x": null,
            "overflow_y": null,
            "padding": null,
            "right": null,
            "top": null,
            "visibility": null,
            "width": null
          }
        },
        "e0543f349f1f4b4e9a55abfe6e81ce1c": {
          "model_module": "@jupyter-widgets/base",
          "model_name": "LayoutModel",
          "model_module_version": "1.2.0",
          "state": {
            "_model_module": "@jupyter-widgets/base",
            "_model_module_version": "1.2.0",
            "_model_name": "LayoutModel",
            "_view_count": null,
            "_view_module": "@jupyter-widgets/base",
            "_view_module_version": "1.2.0",
            "_view_name": "LayoutView",
            "align_content": null,
            "align_items": null,
            "align_self": null,
            "border": null,
            "bottom": null,
            "display": null,
            "flex": null,
            "flex_flow": null,
            "grid_area": null,
            "grid_auto_columns": null,
            "grid_auto_flow": null,
            "grid_auto_rows": null,
            "grid_column": null,
            "grid_gap": null,
            "grid_row": null,
            "grid_template_areas": null,
            "grid_template_columns": null,
            "grid_template_rows": null,
            "height": null,
            "justify_content": null,
            "justify_items": null,
            "left": null,
            "margin": null,
            "max_height": null,
            "max_width": null,
            "min_height": null,
            "min_width": null,
            "object_fit": null,
            "object_position": null,
            "order": null,
            "overflow": null,
            "overflow_x": null,
            "overflow_y": null,
            "padding": null,
            "right": null,
            "top": null,
            "visibility": null,
            "width": null
          }
        },
        "fa598b899407419e8ea6e84829ef7497": {
          "model_module": "@jupyter-widgets/controls",
          "model_name": "DescriptionStyleModel",
          "model_module_version": "1.5.0",
          "state": {
            "_model_module": "@jupyter-widgets/controls",
            "_model_module_version": "1.5.0",
            "_model_name": "DescriptionStyleModel",
            "_view_count": null,
            "_view_module": "@jupyter-widgets/base",
            "_view_module_version": "1.2.0",
            "_view_name": "StyleView",
            "description_width": ""
          }
        },
        "8c1172d335e3412fa27ce02edade39b2": {
          "model_module": "@jupyter-widgets/base",
          "model_name": "LayoutModel",
          "model_module_version": "1.2.0",
          "state": {
            "_model_module": "@jupyter-widgets/base",
            "_model_module_version": "1.2.0",
            "_model_name": "LayoutModel",
            "_view_count": null,
            "_view_module": "@jupyter-widgets/base",
            "_view_module_version": "1.2.0",
            "_view_name": "LayoutView",
            "align_content": null,
            "align_items": null,
            "align_self": null,
            "border": null,
            "bottom": null,
            "display": null,
            "flex": null,
            "flex_flow": null,
            "grid_area": null,
            "grid_auto_columns": null,
            "grid_auto_flow": null,
            "grid_auto_rows": null,
            "grid_column": null,
            "grid_gap": null,
            "grid_row": null,
            "grid_template_areas": null,
            "grid_template_columns": null,
            "grid_template_rows": null,
            "height": null,
            "justify_content": null,
            "justify_items": null,
            "left": null,
            "margin": null,
            "max_height": null,
            "max_width": null,
            "min_height": null,
            "min_width": null,
            "object_fit": null,
            "object_position": null,
            "order": null,
            "overflow": null,
            "overflow_x": null,
            "overflow_y": null,
            "padding": null,
            "right": null,
            "top": null,
            "visibility": null,
            "width": null
          }
        },
        "8251f6aba5fd4238971f701776920356": {
          "model_module": "@jupyter-widgets/controls",
          "model_name": "ProgressStyleModel",
          "model_module_version": "1.5.0",
          "state": {
            "_model_module": "@jupyter-widgets/controls",
            "_model_module_version": "1.5.0",
            "_model_name": "ProgressStyleModel",
            "_view_count": null,
            "_view_module": "@jupyter-widgets/base",
            "_view_module_version": "1.2.0",
            "_view_name": "StyleView",
            "bar_color": null,
            "description_width": ""
          }
        },
        "5607e2906f50450897656c6b92344934": {
          "model_module": "@jupyter-widgets/base",
          "model_name": "LayoutModel",
          "model_module_version": "1.2.0",
          "state": {
            "_model_module": "@jupyter-widgets/base",
            "_model_module_version": "1.2.0",
            "_model_name": "LayoutModel",
            "_view_count": null,
            "_view_module": "@jupyter-widgets/base",
            "_view_module_version": "1.2.0",
            "_view_name": "LayoutView",
            "align_content": null,
            "align_items": null,
            "align_self": null,
            "border": null,
            "bottom": null,
            "display": null,
            "flex": null,
            "flex_flow": null,
            "grid_area": null,
            "grid_auto_columns": null,
            "grid_auto_flow": null,
            "grid_auto_rows": null,
            "grid_column": null,
            "grid_gap": null,
            "grid_row": null,
            "grid_template_areas": null,
            "grid_template_columns": null,
            "grid_template_rows": null,
            "height": null,
            "justify_content": null,
            "justify_items": null,
            "left": null,
            "margin": null,
            "max_height": null,
            "max_width": null,
            "min_height": null,
            "min_width": null,
            "object_fit": null,
            "object_position": null,
            "order": null,
            "overflow": null,
            "overflow_x": null,
            "overflow_y": null,
            "padding": null,
            "right": null,
            "top": null,
            "visibility": null,
            "width": null
          }
        },
        "4bdf1737b39143a28eb07f5f821ea913": {
          "model_module": "@jupyter-widgets/controls",
          "model_name": "DescriptionStyleModel",
          "model_module_version": "1.5.0",
          "state": {
            "_model_module": "@jupyter-widgets/controls",
            "_model_module_version": "1.5.0",
            "_model_name": "DescriptionStyleModel",
            "_view_count": null,
            "_view_module": "@jupyter-widgets/base",
            "_view_module_version": "1.2.0",
            "_view_name": "StyleView",
            "description_width": ""
          }
        },
        "96f5f41e90cf456db7a2f7ba1ed234f9": {
          "model_module": "@jupyter-widgets/controls",
          "model_name": "HBoxModel",
          "model_module_version": "1.5.0",
          "state": {
            "_dom_classes": [],
            "_model_module": "@jupyter-widgets/controls",
            "_model_module_version": "1.5.0",
            "_model_name": "HBoxModel",
            "_view_count": null,
            "_view_module": "@jupyter-widgets/controls",
            "_view_module_version": "1.5.0",
            "_view_name": "HBoxView",
            "box_style": "",
            "children": [
              "IPY_MODEL_753832b4d5bb4ffab48bb559940e90ae",
              "IPY_MODEL_7ad6cdf44f0b46fda96a3b02518115e8",
              "IPY_MODEL_96ae77207f4c4d589a4fc70ccc610d5e"
            ],
            "layout": "IPY_MODEL_dd87ce02f4874e5fb38e458c059818f9"
          }
        },
        "753832b4d5bb4ffab48bb559940e90ae": {
          "model_module": "@jupyter-widgets/controls",
          "model_name": "HTMLModel",
          "model_module_version": "1.5.0",
          "state": {
            "_dom_classes": [],
            "_model_module": "@jupyter-widgets/controls",
            "_model_module_version": "1.5.0",
            "_model_name": "HTMLModel",
            "_view_count": null,
            "_view_module": "@jupyter-widgets/controls",
            "_view_module_version": "1.5.0",
            "_view_name": "HTMLView",
            "description": "",
            "description_tooltip": null,
            "layout": "IPY_MODEL_65d682bccaa04f9bb906a8059bca2f40",
            "placeholder": "​",
            "style": "IPY_MODEL_e6155510dd2742199678f2e6ed610f02",
            "value": "tokenizer.json: 100%"
          }
        },
        "7ad6cdf44f0b46fda96a3b02518115e8": {
          "model_module": "@jupyter-widgets/controls",
          "model_name": "FloatProgressModel",
          "model_module_version": "1.5.0",
          "state": {
            "_dom_classes": [],
            "_model_module": "@jupyter-widgets/controls",
            "_model_module_version": "1.5.0",
            "_model_name": "FloatProgressModel",
            "_view_count": null,
            "_view_module": "@jupyter-widgets/controls",
            "_view_module_version": "1.5.0",
            "_view_name": "ProgressView",
            "bar_style": "success",
            "description": "",
            "description_tooltip": null,
            "layout": "IPY_MODEL_ac4066d92c934de8a7fba993c801e08e",
            "max": 1355256,
            "min": 0,
            "orientation": "horizontal",
            "style": "IPY_MODEL_8c3aa53cd36a406cbf4d25d6cd7a29b0",
            "value": 1355256
          }
        },
        "96ae77207f4c4d589a4fc70ccc610d5e": {
          "model_module": "@jupyter-widgets/controls",
          "model_name": "HTMLModel",
          "model_module_version": "1.5.0",
          "state": {
            "_dom_classes": [],
            "_model_module": "@jupyter-widgets/controls",
            "_model_module_version": "1.5.0",
            "_model_name": "HTMLModel",
            "_view_count": null,
            "_view_module": "@jupyter-widgets/controls",
            "_view_module_version": "1.5.0",
            "_view_name": "HTMLView",
            "description": "",
            "description_tooltip": null,
            "layout": "IPY_MODEL_851d798ab5f64ee0b9e5cf64a4b74c39",
            "placeholder": "​",
            "style": "IPY_MODEL_aaa67de293014b2dbbe9b88ca14f4f88",
            "value": " 1.36M/1.36M [00:00&lt;00:00, 5.78MB/s]"
          }
        },
        "dd87ce02f4874e5fb38e458c059818f9": {
          "model_module": "@jupyter-widgets/base",
          "model_name": "LayoutModel",
          "model_module_version": "1.2.0",
          "state": {
            "_model_module": "@jupyter-widgets/base",
            "_model_module_version": "1.2.0",
            "_model_name": "LayoutModel",
            "_view_count": null,
            "_view_module": "@jupyter-widgets/base",
            "_view_module_version": "1.2.0",
            "_view_name": "LayoutView",
            "align_content": null,
            "align_items": null,
            "align_self": null,
            "border": null,
            "bottom": null,
            "display": null,
            "flex": null,
            "flex_flow": null,
            "grid_area": null,
            "grid_auto_columns": null,
            "grid_auto_flow": null,
            "grid_auto_rows": null,
            "grid_column": null,
            "grid_gap": null,
            "grid_row": null,
            "grid_template_areas": null,
            "grid_template_columns": null,
            "grid_template_rows": null,
            "height": null,
            "justify_content": null,
            "justify_items": null,
            "left": null,
            "margin": null,
            "max_height": null,
            "max_width": null,
            "min_height": null,
            "min_width": null,
            "object_fit": null,
            "object_position": null,
            "order": null,
            "overflow": null,
            "overflow_x": null,
            "overflow_y": null,
            "padding": null,
            "right": null,
            "top": null,
            "visibility": null,
            "width": null
          }
        },
        "65d682bccaa04f9bb906a8059bca2f40": {
          "model_module": "@jupyter-widgets/base",
          "model_name": "LayoutModel",
          "model_module_version": "1.2.0",
          "state": {
            "_model_module": "@jupyter-widgets/base",
            "_model_module_version": "1.2.0",
            "_model_name": "LayoutModel",
            "_view_count": null,
            "_view_module": "@jupyter-widgets/base",
            "_view_module_version": "1.2.0",
            "_view_name": "LayoutView",
            "align_content": null,
            "align_items": null,
            "align_self": null,
            "border": null,
            "bottom": null,
            "display": null,
            "flex": null,
            "flex_flow": null,
            "grid_area": null,
            "grid_auto_columns": null,
            "grid_auto_flow": null,
            "grid_auto_rows": null,
            "grid_column": null,
            "grid_gap": null,
            "grid_row": null,
            "grid_template_areas": null,
            "grid_template_columns": null,
            "grid_template_rows": null,
            "height": null,
            "justify_content": null,
            "justify_items": null,
            "left": null,
            "margin": null,
            "max_height": null,
            "max_width": null,
            "min_height": null,
            "min_width": null,
            "object_fit": null,
            "object_position": null,
            "order": null,
            "overflow": null,
            "overflow_x": null,
            "overflow_y": null,
            "padding": null,
            "right": null,
            "top": null,
            "visibility": null,
            "width": null
          }
        },
        "e6155510dd2742199678f2e6ed610f02": {
          "model_module": "@jupyter-widgets/controls",
          "model_name": "DescriptionStyleModel",
          "model_module_version": "1.5.0",
          "state": {
            "_model_module": "@jupyter-widgets/controls",
            "_model_module_version": "1.5.0",
            "_model_name": "DescriptionStyleModel",
            "_view_count": null,
            "_view_module": "@jupyter-widgets/base",
            "_view_module_version": "1.2.0",
            "_view_name": "StyleView",
            "description_width": ""
          }
        },
        "ac4066d92c934de8a7fba993c801e08e": {
          "model_module": "@jupyter-widgets/base",
          "model_name": "LayoutModel",
          "model_module_version": "1.2.0",
          "state": {
            "_model_module": "@jupyter-widgets/base",
            "_model_module_version": "1.2.0",
            "_model_name": "LayoutModel",
            "_view_count": null,
            "_view_module": "@jupyter-widgets/base",
            "_view_module_version": "1.2.0",
            "_view_name": "LayoutView",
            "align_content": null,
            "align_items": null,
            "align_self": null,
            "border": null,
            "bottom": null,
            "display": null,
            "flex": null,
            "flex_flow": null,
            "grid_area": null,
            "grid_auto_columns": null,
            "grid_auto_flow": null,
            "grid_auto_rows": null,
            "grid_column": null,
            "grid_gap": null,
            "grid_row": null,
            "grid_template_areas": null,
            "grid_template_columns": null,
            "grid_template_rows": null,
            "height": null,
            "justify_content": null,
            "justify_items": null,
            "left": null,
            "margin": null,
            "max_height": null,
            "max_width": null,
            "min_height": null,
            "min_width": null,
            "object_fit": null,
            "object_position": null,
            "order": null,
            "overflow": null,
            "overflow_x": null,
            "overflow_y": null,
            "padding": null,
            "right": null,
            "top": null,
            "visibility": null,
            "width": null
          }
        },
        "8c3aa53cd36a406cbf4d25d6cd7a29b0": {
          "model_module": "@jupyter-widgets/controls",
          "model_name": "ProgressStyleModel",
          "model_module_version": "1.5.0",
          "state": {
            "_model_module": "@jupyter-widgets/controls",
            "_model_module_version": "1.5.0",
            "_model_name": "ProgressStyleModel",
            "_view_count": null,
            "_view_module": "@jupyter-widgets/base",
            "_view_module_version": "1.2.0",
            "_view_name": "StyleView",
            "bar_color": null,
            "description_width": ""
          }
        },
        "851d798ab5f64ee0b9e5cf64a4b74c39": {
          "model_module": "@jupyter-widgets/base",
          "model_name": "LayoutModel",
          "model_module_version": "1.2.0",
          "state": {
            "_model_module": "@jupyter-widgets/base",
            "_model_module_version": "1.2.0",
            "_model_name": "LayoutModel",
            "_view_count": null,
            "_view_module": "@jupyter-widgets/base",
            "_view_module_version": "1.2.0",
            "_view_name": "LayoutView",
            "align_content": null,
            "align_items": null,
            "align_self": null,
            "border": null,
            "bottom": null,
            "display": null,
            "flex": null,
            "flex_flow": null,
            "grid_area": null,
            "grid_auto_columns": null,
            "grid_auto_flow": null,
            "grid_auto_rows": null,
            "grid_column": null,
            "grid_gap": null,
            "grid_row": null,
            "grid_template_areas": null,
            "grid_template_columns": null,
            "grid_template_rows": null,
            "height": null,
            "justify_content": null,
            "justify_items": null,
            "left": null,
            "margin": null,
            "max_height": null,
            "max_width": null,
            "min_height": null,
            "min_width": null,
            "object_fit": null,
            "object_position": null,
            "order": null,
            "overflow": null,
            "overflow_x": null,
            "overflow_y": null,
            "padding": null,
            "right": null,
            "top": null,
            "visibility": null,
            "width": null
          }
        },
        "aaa67de293014b2dbbe9b88ca14f4f88": {
          "model_module": "@jupyter-widgets/controls",
          "model_name": "DescriptionStyleModel",
          "model_module_version": "1.5.0",
          "state": {
            "_model_module": "@jupyter-widgets/controls",
            "_model_module_version": "1.5.0",
            "_model_name": "DescriptionStyleModel",
            "_view_count": null,
            "_view_module": "@jupyter-widgets/base",
            "_view_module_version": "1.2.0",
            "_view_name": "StyleView",
            "description_width": ""
          }
        },
        "f163d066edb94081b25b57cca20d14cc": {
          "model_module": "@jupyter-widgets/controls",
          "model_name": "HBoxModel",
          "model_module_version": "1.5.0",
          "state": {
            "_dom_classes": [],
            "_model_module": "@jupyter-widgets/controls",
            "_model_module_version": "1.5.0",
            "_model_name": "HBoxModel",
            "_view_count": null,
            "_view_module": "@jupyter-widgets/controls",
            "_view_module_version": "1.5.0",
            "_view_name": "HBoxView",
            "box_style": "",
            "children": [
              "IPY_MODEL_6dddfdd7983342989c80a821ed7bdddc",
              "IPY_MODEL_11b8054e5a7e49269673295bb035c0d4",
              "IPY_MODEL_e2320833bc1f45a28b12bb808ff37f3b"
            ],
            "layout": "IPY_MODEL_8106ebd9a48f490c86cbcb14433af5f2"
          }
        },
        "6dddfdd7983342989c80a821ed7bdddc": {
          "model_module": "@jupyter-widgets/controls",
          "model_name": "HTMLModel",
          "model_module_version": "1.5.0",
          "state": {
            "_dom_classes": [],
            "_model_module": "@jupyter-widgets/controls",
            "_model_module_version": "1.5.0",
            "_model_name": "HTMLModel",
            "_view_count": null,
            "_view_module": "@jupyter-widgets/controls",
            "_view_module_version": "1.5.0",
            "_view_name": "HTMLView",
            "description": "",
            "description_tooltip": null,
            "layout": "IPY_MODEL_6066ef7c96184a8ea106199df317f165",
            "placeholder": "​",
            "style": "IPY_MODEL_082c4034d7a4434192e52f3076f34faf",
            "value": "config.json: 100%"
          }
        },
        "11b8054e5a7e49269673295bb035c0d4": {
          "model_module": "@jupyter-widgets/controls",
          "model_name": "FloatProgressModel",
          "model_module_version": "1.5.0",
          "state": {
            "_dom_classes": [],
            "_model_module": "@jupyter-widgets/controls",
            "_model_module_version": "1.5.0",
            "_model_name": "FloatProgressModel",
            "_view_count": null,
            "_view_module": "@jupyter-widgets/controls",
            "_view_module_version": "1.5.0",
            "_view_name": "ProgressView",
            "bar_style": "success",
            "description": "",
            "description_tooltip": null,
            "layout": "IPY_MODEL_fcd9014eea164ed79b5f9ca3f4a30465",
            "max": 718,
            "min": 0,
            "orientation": "horizontal",
            "style": "IPY_MODEL_2d6b3a1e5a2d4290844679d720eca9e1",
            "value": 718
          }
        },
        "e2320833bc1f45a28b12bb808ff37f3b": {
          "model_module": "@jupyter-widgets/controls",
          "model_name": "HTMLModel",
          "model_module_version": "1.5.0",
          "state": {
            "_dom_classes": [],
            "_model_module": "@jupyter-widgets/controls",
            "_model_module_version": "1.5.0",
            "_model_name": "HTMLModel",
            "_view_count": null,
            "_view_module": "@jupyter-widgets/controls",
            "_view_module_version": "1.5.0",
            "_view_name": "HTMLView",
            "description": "",
            "description_tooltip": null,
            "layout": "IPY_MODEL_49cebcd05c384785bb1ecce3e2d868f2",
            "placeholder": "​",
            "style": "IPY_MODEL_524cf7f3c64d42ada3e4ef8fa7e9d810",
            "value": " 718/718 [00:00&lt;00:00, 23.8kB/s]"
          }
        },
        "8106ebd9a48f490c86cbcb14433af5f2": {
          "model_module": "@jupyter-widgets/base",
          "model_name": "LayoutModel",
          "model_module_version": "1.2.0",
          "state": {
            "_model_module": "@jupyter-widgets/base",
            "_model_module_version": "1.2.0",
            "_model_name": "LayoutModel",
            "_view_count": null,
            "_view_module": "@jupyter-widgets/base",
            "_view_module_version": "1.2.0",
            "_view_name": "LayoutView",
            "align_content": null,
            "align_items": null,
            "align_self": null,
            "border": null,
            "bottom": null,
            "display": null,
            "flex": null,
            "flex_flow": null,
            "grid_area": null,
            "grid_auto_columns": null,
            "grid_auto_flow": null,
            "grid_auto_rows": null,
            "grid_column": null,
            "grid_gap": null,
            "grid_row": null,
            "grid_template_areas": null,
            "grid_template_columns": null,
            "grid_template_rows": null,
            "height": null,
            "justify_content": null,
            "justify_items": null,
            "left": null,
            "margin": null,
            "max_height": null,
            "max_width": null,
            "min_height": null,
            "min_width": null,
            "object_fit": null,
            "object_position": null,
            "order": null,
            "overflow": null,
            "overflow_x": null,
            "overflow_y": null,
            "padding": null,
            "right": null,
            "top": null,
            "visibility": null,
            "width": null
          }
        },
        "6066ef7c96184a8ea106199df317f165": {
          "model_module": "@jupyter-widgets/base",
          "model_name": "LayoutModel",
          "model_module_version": "1.2.0",
          "state": {
            "_model_module": "@jupyter-widgets/base",
            "_model_module_version": "1.2.0",
            "_model_name": "LayoutModel",
            "_view_count": null,
            "_view_module": "@jupyter-widgets/base",
            "_view_module_version": "1.2.0",
            "_view_name": "LayoutView",
            "align_content": null,
            "align_items": null,
            "align_self": null,
            "border": null,
            "bottom": null,
            "display": null,
            "flex": null,
            "flex_flow": null,
            "grid_area": null,
            "grid_auto_columns": null,
            "grid_auto_flow": null,
            "grid_auto_rows": null,
            "grid_column": null,
            "grid_gap": null,
            "grid_row": null,
            "grid_template_areas": null,
            "grid_template_columns": null,
            "grid_template_rows": null,
            "height": null,
            "justify_content": null,
            "justify_items": null,
            "left": null,
            "margin": null,
            "max_height": null,
            "max_width": null,
            "min_height": null,
            "min_width": null,
            "object_fit": null,
            "object_position": null,
            "order": null,
            "overflow": null,
            "overflow_x": null,
            "overflow_y": null,
            "padding": null,
            "right": null,
            "top": null,
            "visibility": null,
            "width": null
          }
        },
        "082c4034d7a4434192e52f3076f34faf": {
          "model_module": "@jupyter-widgets/controls",
          "model_name": "DescriptionStyleModel",
          "model_module_version": "1.5.0",
          "state": {
            "_model_module": "@jupyter-widgets/controls",
            "_model_module_version": "1.5.0",
            "_model_name": "DescriptionStyleModel",
            "_view_count": null,
            "_view_module": "@jupyter-widgets/base",
            "_view_module_version": "1.2.0",
            "_view_name": "StyleView",
            "description_width": ""
          }
        },
        "fcd9014eea164ed79b5f9ca3f4a30465": {
          "model_module": "@jupyter-widgets/base",
          "model_name": "LayoutModel",
          "model_module_version": "1.2.0",
          "state": {
            "_model_module": "@jupyter-widgets/base",
            "_model_module_version": "1.2.0",
            "_model_name": "LayoutModel",
            "_view_count": null,
            "_view_module": "@jupyter-widgets/base",
            "_view_module_version": "1.2.0",
            "_view_name": "LayoutView",
            "align_content": null,
            "align_items": null,
            "align_self": null,
            "border": null,
            "bottom": null,
            "display": null,
            "flex": null,
            "flex_flow": null,
            "grid_area": null,
            "grid_auto_columns": null,
            "grid_auto_flow": null,
            "grid_auto_rows": null,
            "grid_column": null,
            "grid_gap": null,
            "grid_row": null,
            "grid_template_areas": null,
            "grid_template_columns": null,
            "grid_template_rows": null,
            "height": null,
            "justify_content": null,
            "justify_items": null,
            "left": null,
            "margin": null,
            "max_height": null,
            "max_width": null,
            "min_height": null,
            "min_width": null,
            "object_fit": null,
            "object_position": null,
            "order": null,
            "overflow": null,
            "overflow_x": null,
            "overflow_y": null,
            "padding": null,
            "right": null,
            "top": null,
            "visibility": null,
            "width": null
          }
        },
        "2d6b3a1e5a2d4290844679d720eca9e1": {
          "model_module": "@jupyter-widgets/controls",
          "model_name": "ProgressStyleModel",
          "model_module_version": "1.5.0",
          "state": {
            "_model_module": "@jupyter-widgets/controls",
            "_model_module_version": "1.5.0",
            "_model_name": "ProgressStyleModel",
            "_view_count": null,
            "_view_module": "@jupyter-widgets/base",
            "_view_module_version": "1.2.0",
            "_view_name": "StyleView",
            "bar_color": null,
            "description_width": ""
          }
        },
        "49cebcd05c384785bb1ecce3e2d868f2": {
          "model_module": "@jupyter-widgets/base",
          "model_name": "LayoutModel",
          "model_module_version": "1.2.0",
          "state": {
            "_model_module": "@jupyter-widgets/base",
            "_model_module_version": "1.2.0",
            "_model_name": "LayoutModel",
            "_view_count": null,
            "_view_module": "@jupyter-widgets/base",
            "_view_module_version": "1.2.0",
            "_view_name": "LayoutView",
            "align_content": null,
            "align_items": null,
            "align_self": null,
            "border": null,
            "bottom": null,
            "display": null,
            "flex": null,
            "flex_flow": null,
            "grid_area": null,
            "grid_auto_columns": null,
            "grid_auto_flow": null,
            "grid_auto_rows": null,
            "grid_column": null,
            "grid_gap": null,
            "grid_row": null,
            "grid_template_areas": null,
            "grid_template_columns": null,
            "grid_template_rows": null,
            "height": null,
            "justify_content": null,
            "justify_items": null,
            "left": null,
            "margin": null,
            "max_height": null,
            "max_width": null,
            "min_height": null,
            "min_width": null,
            "object_fit": null,
            "object_position": null,
            "order": null,
            "overflow": null,
            "overflow_x": null,
            "overflow_y": null,
            "padding": null,
            "right": null,
            "top": null,
            "visibility": null,
            "width": null
          }
        },
        "524cf7f3c64d42ada3e4ef8fa7e9d810": {
          "model_module": "@jupyter-widgets/controls",
          "model_name": "DescriptionStyleModel",
          "model_module_version": "1.5.0",
          "state": {
            "_model_module": "@jupyter-widgets/controls",
            "_model_module_version": "1.5.0",
            "_model_name": "DescriptionStyleModel",
            "_view_count": null,
            "_view_module": "@jupyter-widgets/base",
            "_view_module_version": "1.2.0",
            "_view_name": "StyleView",
            "description_width": ""
          }
        },
        "2f36410ed72f44fe928a40d86a03c376": {
          "model_module": "@jupyter-widgets/controls",
          "model_name": "HBoxModel",
          "model_module_version": "1.5.0",
          "state": {
            "_dom_classes": [],
            "_model_module": "@jupyter-widgets/controls",
            "_model_module_version": "1.5.0",
            "_model_name": "HBoxModel",
            "_view_count": null,
            "_view_module": "@jupyter-widgets/controls",
            "_view_module_version": "1.5.0",
            "_view_name": "HBoxView",
            "box_style": "",
            "children": [
              "IPY_MODEL_b6e6a54ef43b486a80569973d9ff6e73",
              "IPY_MODEL_dcefe070a4fd443db5c80af298851312",
              "IPY_MODEL_3f725925b258420fae57d84316887666"
            ],
            "layout": "IPY_MODEL_2ec4ea8ee9a94d239c1388739a44786b"
          }
        },
        "b6e6a54ef43b486a80569973d9ff6e73": {
          "model_module": "@jupyter-widgets/controls",
          "model_name": "HTMLModel",
          "model_module_version": "1.5.0",
          "state": {
            "_dom_classes": [],
            "_model_module": "@jupyter-widgets/controls",
            "_model_module_version": "1.5.0",
            "_model_name": "HTMLModel",
            "_view_count": null,
            "_view_module": "@jupyter-widgets/controls",
            "_view_module_version": "1.5.0",
            "_view_name": "HTMLView",
            "description": "",
            "description_tooltip": null,
            "layout": "IPY_MODEL_3034978108d241c8918c6cea4ae399c2",
            "placeholder": "​",
            "style": "IPY_MODEL_78960bac13064326a497f42e7c904fd8",
            "value": "Map: 100%"
          }
        },
        "dcefe070a4fd443db5c80af298851312": {
          "model_module": "@jupyter-widgets/controls",
          "model_name": "FloatProgressModel",
          "model_module_version": "1.5.0",
          "state": {
            "_dom_classes": [],
            "_model_module": "@jupyter-widgets/controls",
            "_model_module_version": "1.5.0",
            "_model_name": "FloatProgressModel",
            "_view_count": null,
            "_view_module": "@jupyter-widgets/controls",
            "_view_module_version": "1.5.0",
            "_view_name": "ProgressView",
            "bar_style": "success",
            "description": "",
            "description_tooltip": null,
            "layout": "IPY_MODEL_c5ababf28a1841ada95a433933cc444d",
            "max": 290,
            "min": 0,
            "orientation": "horizontal",
            "style": "IPY_MODEL_e2187d7020d24bab90102c0fd0804095",
            "value": 290
          }
        },
        "3f725925b258420fae57d84316887666": {
          "model_module": "@jupyter-widgets/controls",
          "model_name": "HTMLModel",
          "model_module_version": "1.5.0",
          "state": {
            "_dom_classes": [],
            "_model_module": "@jupyter-widgets/controls",
            "_model_module_version": "1.5.0",
            "_model_name": "HTMLModel",
            "_view_count": null,
            "_view_module": "@jupyter-widgets/controls",
            "_view_module_version": "1.5.0",
            "_view_name": "HTMLView",
            "description": "",
            "description_tooltip": null,
            "layout": "IPY_MODEL_0547959563df45619ba0ee1e05e4696c",
            "placeholder": "​",
            "style": "IPY_MODEL_800a3accada3423fbdfa57fc98df2e80",
            "value": " 290/290 [00:02&lt;00:00, 157.13 examples/s]"
          }
        },
        "2ec4ea8ee9a94d239c1388739a44786b": {
          "model_module": "@jupyter-widgets/base",
          "model_name": "LayoutModel",
          "model_module_version": "1.2.0",
          "state": {
            "_model_module": "@jupyter-widgets/base",
            "_model_module_version": "1.2.0",
            "_model_name": "LayoutModel",
            "_view_count": null,
            "_view_module": "@jupyter-widgets/base",
            "_view_module_version": "1.2.0",
            "_view_name": "LayoutView",
            "align_content": null,
            "align_items": null,
            "align_self": null,
            "border": null,
            "bottom": null,
            "display": null,
            "flex": null,
            "flex_flow": null,
            "grid_area": null,
            "grid_auto_columns": null,
            "grid_auto_flow": null,
            "grid_auto_rows": null,
            "grid_column": null,
            "grid_gap": null,
            "grid_row": null,
            "grid_template_areas": null,
            "grid_template_columns": null,
            "grid_template_rows": null,
            "height": null,
            "justify_content": null,
            "justify_items": null,
            "left": null,
            "margin": null,
            "max_height": null,
            "max_width": null,
            "min_height": null,
            "min_width": null,
            "object_fit": null,
            "object_position": null,
            "order": null,
            "overflow": null,
            "overflow_x": null,
            "overflow_y": null,
            "padding": null,
            "right": null,
            "top": null,
            "visibility": null,
            "width": null
          }
        },
        "3034978108d241c8918c6cea4ae399c2": {
          "model_module": "@jupyter-widgets/base",
          "model_name": "LayoutModel",
          "model_module_version": "1.2.0",
          "state": {
            "_model_module": "@jupyter-widgets/base",
            "_model_module_version": "1.2.0",
            "_model_name": "LayoutModel",
            "_view_count": null,
            "_view_module": "@jupyter-widgets/base",
            "_view_module_version": "1.2.0",
            "_view_name": "LayoutView",
            "align_content": null,
            "align_items": null,
            "align_self": null,
            "border": null,
            "bottom": null,
            "display": null,
            "flex": null,
            "flex_flow": null,
            "grid_area": null,
            "grid_auto_columns": null,
            "grid_auto_flow": null,
            "grid_auto_rows": null,
            "grid_column": null,
            "grid_gap": null,
            "grid_row": null,
            "grid_template_areas": null,
            "grid_template_columns": null,
            "grid_template_rows": null,
            "height": null,
            "justify_content": null,
            "justify_items": null,
            "left": null,
            "margin": null,
            "max_height": null,
            "max_width": null,
            "min_height": null,
            "min_width": null,
            "object_fit": null,
            "object_position": null,
            "order": null,
            "overflow": null,
            "overflow_x": null,
            "overflow_y": null,
            "padding": null,
            "right": null,
            "top": null,
            "visibility": null,
            "width": null
          }
        },
        "78960bac13064326a497f42e7c904fd8": {
          "model_module": "@jupyter-widgets/controls",
          "model_name": "DescriptionStyleModel",
          "model_module_version": "1.5.0",
          "state": {
            "_model_module": "@jupyter-widgets/controls",
            "_model_module_version": "1.5.0",
            "_model_name": "DescriptionStyleModel",
            "_view_count": null,
            "_view_module": "@jupyter-widgets/base",
            "_view_module_version": "1.2.0",
            "_view_name": "StyleView",
            "description_width": ""
          }
        },
        "c5ababf28a1841ada95a433933cc444d": {
          "model_module": "@jupyter-widgets/base",
          "model_name": "LayoutModel",
          "model_module_version": "1.2.0",
          "state": {
            "_model_module": "@jupyter-widgets/base",
            "_model_module_version": "1.2.0",
            "_model_name": "LayoutModel",
            "_view_count": null,
            "_view_module": "@jupyter-widgets/base",
            "_view_module_version": "1.2.0",
            "_view_name": "LayoutView",
            "align_content": null,
            "align_items": null,
            "align_self": null,
            "border": null,
            "bottom": null,
            "display": null,
            "flex": null,
            "flex_flow": null,
            "grid_area": null,
            "grid_auto_columns": null,
            "grid_auto_flow": null,
            "grid_auto_rows": null,
            "grid_column": null,
            "grid_gap": null,
            "grid_row": null,
            "grid_template_areas": null,
            "grid_template_columns": null,
            "grid_template_rows": null,
            "height": null,
            "justify_content": null,
            "justify_items": null,
            "left": null,
            "margin": null,
            "max_height": null,
            "max_width": null,
            "min_height": null,
            "min_width": null,
            "object_fit": null,
            "object_position": null,
            "order": null,
            "overflow": null,
            "overflow_x": null,
            "overflow_y": null,
            "padding": null,
            "right": null,
            "top": null,
            "visibility": null,
            "width": null
          }
        },
        "e2187d7020d24bab90102c0fd0804095": {
          "model_module": "@jupyter-widgets/controls",
          "model_name": "ProgressStyleModel",
          "model_module_version": "1.5.0",
          "state": {
            "_model_module": "@jupyter-widgets/controls",
            "_model_module_version": "1.5.0",
            "_model_name": "ProgressStyleModel",
            "_view_count": null,
            "_view_module": "@jupyter-widgets/base",
            "_view_module_version": "1.2.0",
            "_view_name": "StyleView",
            "bar_color": null,
            "description_width": ""
          }
        },
        "0547959563df45619ba0ee1e05e4696c": {
          "model_module": "@jupyter-widgets/base",
          "model_name": "LayoutModel",
          "model_module_version": "1.2.0",
          "state": {
            "_model_module": "@jupyter-widgets/base",
            "_model_module_version": "1.2.0",
            "_model_name": "LayoutModel",
            "_view_count": null,
            "_view_module": "@jupyter-widgets/base",
            "_view_module_version": "1.2.0",
            "_view_name": "LayoutView",
            "align_content": null,
            "align_items": null,
            "align_self": null,
            "border": null,
            "bottom": null,
            "display": null,
            "flex": null,
            "flex_flow": null,
            "grid_area": null,
            "grid_auto_columns": null,
            "grid_auto_flow": null,
            "grid_auto_rows": null,
            "grid_column": null,
            "grid_gap": null,
            "grid_row": null,
            "grid_template_areas": null,
            "grid_template_columns": null,
            "grid_template_rows": null,
            "height": null,
            "justify_content": null,
            "justify_items": null,
            "left": null,
            "margin": null,
            "max_height": null,
            "max_width": null,
            "min_height": null,
            "min_width": null,
            "object_fit": null,
            "object_position": null,
            "order": null,
            "overflow": null,
            "overflow_x": null,
            "overflow_y": null,
            "padding": null,
            "right": null,
            "top": null,
            "visibility": null,
            "width": null
          }
        },
        "800a3accada3423fbdfa57fc98df2e80": {
          "model_module": "@jupyter-widgets/controls",
          "model_name": "DescriptionStyleModel",
          "model_module_version": "1.5.0",
          "state": {
            "_model_module": "@jupyter-widgets/controls",
            "_model_module_version": "1.5.0",
            "_model_name": "DescriptionStyleModel",
            "_view_count": null,
            "_view_module": "@jupyter-widgets/base",
            "_view_module_version": "1.2.0",
            "_view_name": "StyleView",
            "description_width": ""
          }
        },
        "7c292016110741d38ce198b06e19ca8f": {
          "model_module": "@jupyter-widgets/controls",
          "model_name": "HBoxModel",
          "model_module_version": "1.5.0",
          "state": {
            "_dom_classes": [],
            "_model_module": "@jupyter-widgets/controls",
            "_model_module_version": "1.5.0",
            "_model_name": "HBoxModel",
            "_view_count": null,
            "_view_module": "@jupyter-widgets/controls",
            "_view_module_version": "1.5.0",
            "_view_name": "HBoxView",
            "box_style": "",
            "children": [
              "IPY_MODEL_e1717155885141628ef10e690db876cc",
              "IPY_MODEL_e4f3533999c043eaae37e0a7176728df",
              "IPY_MODEL_a9fe1ce5055e4aa0a64f3c224f284ac6"
            ],
            "layout": "IPY_MODEL_0b4e33b9713742d9a1a0c0272f2fbde5"
          }
        },
        "e1717155885141628ef10e690db876cc": {
          "model_module": "@jupyter-widgets/controls",
          "model_name": "HTMLModel",
          "model_module_version": "1.5.0",
          "state": {
            "_dom_classes": [],
            "_model_module": "@jupyter-widgets/controls",
            "_model_module_version": "1.5.0",
            "_model_name": "HTMLModel",
            "_view_count": null,
            "_view_module": "@jupyter-widgets/controls",
            "_view_module_version": "1.5.0",
            "_view_name": "HTMLView",
            "description": "",
            "description_tooltip": null,
            "layout": "IPY_MODEL_7c0c3348edb64efb8c652d274595bd7c",
            "placeholder": "​",
            "style": "IPY_MODEL_f87a227de8144e079494edbf6cb70b44",
            "value": "Filter: 100%"
          }
        },
        "e4f3533999c043eaae37e0a7176728df": {
          "model_module": "@jupyter-widgets/controls",
          "model_name": "FloatProgressModel",
          "model_module_version": "1.5.0",
          "state": {
            "_dom_classes": [],
            "_model_module": "@jupyter-widgets/controls",
            "_model_module_version": "1.5.0",
            "_model_name": "FloatProgressModel",
            "_view_count": null,
            "_view_module": "@jupyter-widgets/controls",
            "_view_module_version": "1.5.0",
            "_view_name": "ProgressView",
            "bar_style": "success",
            "description": "",
            "description_tooltip": null,
            "layout": "IPY_MODEL_953eb6eb38844dbf978b0f36fc3e64ed",
            "max": 290,
            "min": 0,
            "orientation": "horizontal",
            "style": "IPY_MODEL_a80d60db06a743bd9eb946d359403c08",
            "value": 290
          }
        },
        "a9fe1ce5055e4aa0a64f3c224f284ac6": {
          "model_module": "@jupyter-widgets/controls",
          "model_name": "HTMLModel",
          "model_module_version": "1.5.0",
          "state": {
            "_dom_classes": [],
            "_model_module": "@jupyter-widgets/controls",
            "_model_module_version": "1.5.0",
            "_model_name": "HTMLModel",
            "_view_count": null,
            "_view_module": "@jupyter-widgets/controls",
            "_view_module_version": "1.5.0",
            "_view_name": "HTMLView",
            "description": "",
            "description_tooltip": null,
            "layout": "IPY_MODEL_515f98f3006f4e39a938896e8dc8f2bb",
            "placeholder": "​",
            "style": "IPY_MODEL_15034379fd8f421388340eccadef7ed7",
            "value": " 290/290 [00:00&lt;00:00, 1388.08 examples/s]"
          }
        },
        "0b4e33b9713742d9a1a0c0272f2fbde5": {
          "model_module": "@jupyter-widgets/base",
          "model_name": "LayoutModel",
          "model_module_version": "1.2.0",
          "state": {
            "_model_module": "@jupyter-widgets/base",
            "_model_module_version": "1.2.0",
            "_model_name": "LayoutModel",
            "_view_count": null,
            "_view_module": "@jupyter-widgets/base",
            "_view_module_version": "1.2.0",
            "_view_name": "LayoutView",
            "align_content": null,
            "align_items": null,
            "align_self": null,
            "border": null,
            "bottom": null,
            "display": null,
            "flex": null,
            "flex_flow": null,
            "grid_area": null,
            "grid_auto_columns": null,
            "grid_auto_flow": null,
            "grid_auto_rows": null,
            "grid_column": null,
            "grid_gap": null,
            "grid_row": null,
            "grid_template_areas": null,
            "grid_template_columns": null,
            "grid_template_rows": null,
            "height": null,
            "justify_content": null,
            "justify_items": null,
            "left": null,
            "margin": null,
            "max_height": null,
            "max_width": null,
            "min_height": null,
            "min_width": null,
            "object_fit": null,
            "object_position": null,
            "order": null,
            "overflow": null,
            "overflow_x": null,
            "overflow_y": null,
            "padding": null,
            "right": null,
            "top": null,
            "visibility": null,
            "width": null
          }
        },
        "7c0c3348edb64efb8c652d274595bd7c": {
          "model_module": "@jupyter-widgets/base",
          "model_name": "LayoutModel",
          "model_module_version": "1.2.0",
          "state": {
            "_model_module": "@jupyter-widgets/base",
            "_model_module_version": "1.2.0",
            "_model_name": "LayoutModel",
            "_view_count": null,
            "_view_module": "@jupyter-widgets/base",
            "_view_module_version": "1.2.0",
            "_view_name": "LayoutView",
            "align_content": null,
            "align_items": null,
            "align_self": null,
            "border": null,
            "bottom": null,
            "display": null,
            "flex": null,
            "flex_flow": null,
            "grid_area": null,
            "grid_auto_columns": null,
            "grid_auto_flow": null,
            "grid_auto_rows": null,
            "grid_column": null,
            "grid_gap": null,
            "grid_row": null,
            "grid_template_areas": null,
            "grid_template_columns": null,
            "grid_template_rows": null,
            "height": null,
            "justify_content": null,
            "justify_items": null,
            "left": null,
            "margin": null,
            "max_height": null,
            "max_width": null,
            "min_height": null,
            "min_width": null,
            "object_fit": null,
            "object_position": null,
            "order": null,
            "overflow": null,
            "overflow_x": null,
            "overflow_y": null,
            "padding": null,
            "right": null,
            "top": null,
            "visibility": null,
            "width": null
          }
        },
        "f87a227de8144e079494edbf6cb70b44": {
          "model_module": "@jupyter-widgets/controls",
          "model_name": "DescriptionStyleModel",
          "model_module_version": "1.5.0",
          "state": {
            "_model_module": "@jupyter-widgets/controls",
            "_model_module_version": "1.5.0",
            "_model_name": "DescriptionStyleModel",
            "_view_count": null,
            "_view_module": "@jupyter-widgets/base",
            "_view_module_version": "1.2.0",
            "_view_name": "StyleView",
            "description_width": ""
          }
        },
        "953eb6eb38844dbf978b0f36fc3e64ed": {
          "model_module": "@jupyter-widgets/base",
          "model_name": "LayoutModel",
          "model_module_version": "1.2.0",
          "state": {
            "_model_module": "@jupyter-widgets/base",
            "_model_module_version": "1.2.0",
            "_model_name": "LayoutModel",
            "_view_count": null,
            "_view_module": "@jupyter-widgets/base",
            "_view_module_version": "1.2.0",
            "_view_name": "LayoutView",
            "align_content": null,
            "align_items": null,
            "align_self": null,
            "border": null,
            "bottom": null,
            "display": null,
            "flex": null,
            "flex_flow": null,
            "grid_area": null,
            "grid_auto_columns": null,
            "grid_auto_flow": null,
            "grid_auto_rows": null,
            "grid_column": null,
            "grid_gap": null,
            "grid_row": null,
            "grid_template_areas": null,
            "grid_template_columns": null,
            "grid_template_rows": null,
            "height": null,
            "justify_content": null,
            "justify_items": null,
            "left": null,
            "margin": null,
            "max_height": null,
            "max_width": null,
            "min_height": null,
            "min_width": null,
            "object_fit": null,
            "object_position": null,
            "order": null,
            "overflow": null,
            "overflow_x": null,
            "overflow_y": null,
            "padding": null,
            "right": null,
            "top": null,
            "visibility": null,
            "width": null
          }
        },
        "a80d60db06a743bd9eb946d359403c08": {
          "model_module": "@jupyter-widgets/controls",
          "model_name": "ProgressStyleModel",
          "model_module_version": "1.5.0",
          "state": {
            "_model_module": "@jupyter-widgets/controls",
            "_model_module_version": "1.5.0",
            "_model_name": "ProgressStyleModel",
            "_view_count": null,
            "_view_module": "@jupyter-widgets/base",
            "_view_module_version": "1.2.0",
            "_view_name": "StyleView",
            "bar_color": null,
            "description_width": ""
          }
        },
        "515f98f3006f4e39a938896e8dc8f2bb": {
          "model_module": "@jupyter-widgets/base",
          "model_name": "LayoutModel",
          "model_module_version": "1.2.0",
          "state": {
            "_model_module": "@jupyter-widgets/base",
            "_model_module_version": "1.2.0",
            "_model_name": "LayoutModel",
            "_view_count": null,
            "_view_module": "@jupyter-widgets/base",
            "_view_module_version": "1.2.0",
            "_view_name": "LayoutView",
            "align_content": null,
            "align_items": null,
            "align_self": null,
            "border": null,
            "bottom": null,
            "display": null,
            "flex": null,
            "flex_flow": null,
            "grid_area": null,
            "grid_auto_columns": null,
            "grid_auto_flow": null,
            "grid_auto_rows": null,
            "grid_column": null,
            "grid_gap": null,
            "grid_row": null,
            "grid_template_areas": null,
            "grid_template_columns": null,
            "grid_template_rows": null,
            "height": null,
            "justify_content": null,
            "justify_items": null,
            "left": null,
            "margin": null,
            "max_height": null,
            "max_width": null,
            "min_height": null,
            "min_width": null,
            "object_fit": null,
            "object_position": null,
            "order": null,
            "overflow": null,
            "overflow_x": null,
            "overflow_y": null,
            "padding": null,
            "right": null,
            "top": null,
            "visibility": null,
            "width": null
          }
        },
        "15034379fd8f421388340eccadef7ed7": {
          "model_module": "@jupyter-widgets/controls",
          "model_name": "DescriptionStyleModel",
          "model_module_version": "1.5.0",
          "state": {
            "_model_module": "@jupyter-widgets/controls",
            "_model_module_version": "1.5.0",
            "_model_name": "DescriptionStyleModel",
            "_view_count": null,
            "_view_module": "@jupyter-widgets/base",
            "_view_module_version": "1.2.0",
            "_view_name": "StyleView",
            "description_width": ""
          }
        },
        "5efc876b4323402eb49bb28c9f701e0c": {
          "model_module": "@jupyter-widgets/controls",
          "model_name": "HBoxModel",
          "model_module_version": "1.5.0",
          "state": {
            "_dom_classes": [],
            "_model_module": "@jupyter-widgets/controls",
            "_model_module_version": "1.5.0",
            "_model_name": "HBoxModel",
            "_view_count": null,
            "_view_module": "@jupyter-widgets/controls",
            "_view_module_version": "1.5.0",
            "_view_name": "HBoxView",
            "box_style": "",
            "children": [
              "IPY_MODEL_ebe2598fe0e74a47a411f68f9e5b532c",
              "IPY_MODEL_1c5e5a06d88c4431a71c1e7c5757037b",
              "IPY_MODEL_e8ad30b099544654aeb079a8f8e704e1"
            ],
            "layout": "IPY_MODEL_54c732e36af74179a5e30cd1a619105b"
          }
        },
        "ebe2598fe0e74a47a411f68f9e5b532c": {
          "model_module": "@jupyter-widgets/controls",
          "model_name": "HTMLModel",
          "model_module_version": "1.5.0",
          "state": {
            "_dom_classes": [],
            "_model_module": "@jupyter-widgets/controls",
            "_model_module_version": "1.5.0",
            "_model_name": "HTMLModel",
            "_view_count": null,
            "_view_module": "@jupyter-widgets/controls",
            "_view_module_version": "1.5.0",
            "_view_name": "HTMLView",
            "description": "",
            "description_tooltip": null,
            "layout": "IPY_MODEL_cb96f2ed16fd4d98b1bb0bf826828391",
            "placeholder": "​",
            "style": "IPY_MODEL_36b7fde2a77a4b8e88faefaa0c54a843",
            "value": "model.safetensors: 100%"
          }
        },
        "1c5e5a06d88c4431a71c1e7c5757037b": {
          "model_module": "@jupyter-widgets/controls",
          "model_name": "FloatProgressModel",
          "model_module_version": "1.5.0",
          "state": {
            "_dom_classes": [],
            "_model_module": "@jupyter-widgets/controls",
            "_model_module_version": "1.5.0",
            "_model_name": "FloatProgressModel",
            "_view_count": null,
            "_view_module": "@jupyter-widgets/controls",
            "_view_module_version": "1.5.0",
            "_view_name": "ProgressView",
            "bar_style": "success",
            "description": "",
            "description_tooltip": null,
            "layout": "IPY_MODEL_f1233d83dde241db884dddaeb08d0a8c",
            "max": 1519984962,
            "min": 0,
            "orientation": "horizontal",
            "style": "IPY_MODEL_7b8ccf3cbe824db79b8932794b61a82e",
            "value": 1519984962
          }
        },
        "e8ad30b099544654aeb079a8f8e704e1": {
          "model_module": "@jupyter-widgets/controls",
          "model_name": "HTMLModel",
          "model_module_version": "1.5.0",
          "state": {
            "_dom_classes": [],
            "_model_module": "@jupyter-widgets/controls",
            "_model_module_version": "1.5.0",
            "_model_name": "HTMLModel",
            "_view_count": null,
            "_view_module": "@jupyter-widgets/controls",
            "_view_module_version": "1.5.0",
            "_view_name": "HTMLView",
            "description": "",
            "description_tooltip": null,
            "layout": "IPY_MODEL_89b676d107c548bbb98a547b40b2cf7a",
            "placeholder": "​",
            "style": "IPY_MODEL_0cdba47da6e441a1a8d9bbb83a49487b",
            "value": " 1.52G/1.52G [00:09&lt;00:00, 234MB/s]"
          }
        },
        "54c732e36af74179a5e30cd1a619105b": {
          "model_module": "@jupyter-widgets/base",
          "model_name": "LayoutModel",
          "model_module_version": "1.2.0",
          "state": {
            "_model_module": "@jupyter-widgets/base",
            "_model_module_version": "1.2.0",
            "_model_name": "LayoutModel",
            "_view_count": null,
            "_view_module": "@jupyter-widgets/base",
            "_view_module_version": "1.2.0",
            "_view_name": "LayoutView",
            "align_content": null,
            "align_items": null,
            "align_self": null,
            "border": null,
            "bottom": null,
            "display": null,
            "flex": null,
            "flex_flow": null,
            "grid_area": null,
            "grid_auto_columns": null,
            "grid_auto_flow": null,
            "grid_auto_rows": null,
            "grid_column": null,
            "grid_gap": null,
            "grid_row": null,
            "grid_template_areas": null,
            "grid_template_columns": null,
            "grid_template_rows": null,
            "height": null,
            "justify_content": null,
            "justify_items": null,
            "left": null,
            "margin": null,
            "max_height": null,
            "max_width": null,
            "min_height": null,
            "min_width": null,
            "object_fit": null,
            "object_position": null,
            "order": null,
            "overflow": null,
            "overflow_x": null,
            "overflow_y": null,
            "padding": null,
            "right": null,
            "top": null,
            "visibility": null,
            "width": null
          }
        },
        "cb96f2ed16fd4d98b1bb0bf826828391": {
          "model_module": "@jupyter-widgets/base",
          "model_name": "LayoutModel",
          "model_module_version": "1.2.0",
          "state": {
            "_model_module": "@jupyter-widgets/base",
            "_model_module_version": "1.2.0",
            "_model_name": "LayoutModel",
            "_view_count": null,
            "_view_module": "@jupyter-widgets/base",
            "_view_module_version": "1.2.0",
            "_view_name": "LayoutView",
            "align_content": null,
            "align_items": null,
            "align_self": null,
            "border": null,
            "bottom": null,
            "display": null,
            "flex": null,
            "flex_flow": null,
            "grid_area": null,
            "grid_auto_columns": null,
            "grid_auto_flow": null,
            "grid_auto_rows": null,
            "grid_column": null,
            "grid_gap": null,
            "grid_row": null,
            "grid_template_areas": null,
            "grid_template_columns": null,
            "grid_template_rows": null,
            "height": null,
            "justify_content": null,
            "justify_items": null,
            "left": null,
            "margin": null,
            "max_height": null,
            "max_width": null,
            "min_height": null,
            "min_width": null,
            "object_fit": null,
            "object_position": null,
            "order": null,
            "overflow": null,
            "overflow_x": null,
            "overflow_y": null,
            "padding": null,
            "right": null,
            "top": null,
            "visibility": null,
            "width": null
          }
        },
        "36b7fde2a77a4b8e88faefaa0c54a843": {
          "model_module": "@jupyter-widgets/controls",
          "model_name": "DescriptionStyleModel",
          "model_module_version": "1.5.0",
          "state": {
            "_model_module": "@jupyter-widgets/controls",
            "_model_module_version": "1.5.0",
            "_model_name": "DescriptionStyleModel",
            "_view_count": null,
            "_view_module": "@jupyter-widgets/base",
            "_view_module_version": "1.2.0",
            "_view_name": "StyleView",
            "description_width": ""
          }
        },
        "f1233d83dde241db884dddaeb08d0a8c": {
          "model_module": "@jupyter-widgets/base",
          "model_name": "LayoutModel",
          "model_module_version": "1.2.0",
          "state": {
            "_model_module": "@jupyter-widgets/base",
            "_model_module_version": "1.2.0",
            "_model_name": "LayoutModel",
            "_view_count": null,
            "_view_module": "@jupyter-widgets/base",
            "_view_module_version": "1.2.0",
            "_view_name": "LayoutView",
            "align_content": null,
            "align_items": null,
            "align_self": null,
            "border": null,
            "bottom": null,
            "display": null,
            "flex": null,
            "flex_flow": null,
            "grid_area": null,
            "grid_auto_columns": null,
            "grid_auto_flow": null,
            "grid_auto_rows": null,
            "grid_column": null,
            "grid_gap": null,
            "grid_row": null,
            "grid_template_areas": null,
            "grid_template_columns": null,
            "grid_template_rows": null,
            "height": null,
            "justify_content": null,
            "justify_items": null,
            "left": null,
            "margin": null,
            "max_height": null,
            "max_width": null,
            "min_height": null,
            "min_width": null,
            "object_fit": null,
            "object_position": null,
            "order": null,
            "overflow": null,
            "overflow_x": null,
            "overflow_y": null,
            "padding": null,
            "right": null,
            "top": null,
            "visibility": null,
            "width": null
          }
        },
        "7b8ccf3cbe824db79b8932794b61a82e": {
          "model_module": "@jupyter-widgets/controls",
          "model_name": "ProgressStyleModel",
          "model_module_version": "1.5.0",
          "state": {
            "_model_module": "@jupyter-widgets/controls",
            "_model_module_version": "1.5.0",
            "_model_name": "ProgressStyleModel",
            "_view_count": null,
            "_view_module": "@jupyter-widgets/base",
            "_view_module_version": "1.2.0",
            "_view_name": "StyleView",
            "bar_color": null,
            "description_width": ""
          }
        },
        "89b676d107c548bbb98a547b40b2cf7a": {
          "model_module": "@jupyter-widgets/base",
          "model_name": "LayoutModel",
          "model_module_version": "1.2.0",
          "state": {
            "_model_module": "@jupyter-widgets/base",
            "_model_module_version": "1.2.0",
            "_model_name": "LayoutModel",
            "_view_count": null,
            "_view_module": "@jupyter-widgets/base",
            "_view_module_version": "1.2.0",
            "_view_name": "LayoutView",
            "align_content": null,
            "align_items": null,
            "align_self": null,
            "border": null,
            "bottom": null,
            "display": null,
            "flex": null,
            "flex_flow": null,
            "grid_area": null,
            "grid_auto_columns": null,
            "grid_auto_flow": null,
            "grid_auto_rows": null,
            "grid_column": null,
            "grid_gap": null,
            "grid_row": null,
            "grid_template_areas": null,
            "grid_template_columns": null,
            "grid_template_rows": null,
            "height": null,
            "justify_content": null,
            "justify_items": null,
            "left": null,
            "margin": null,
            "max_height": null,
            "max_width": null,
            "min_height": null,
            "min_width": null,
            "object_fit": null,
            "object_position": null,
            "order": null,
            "overflow": null,
            "overflow_x": null,
            "overflow_y": null,
            "padding": null,
            "right": null,
            "top": null,
            "visibility": null,
            "width": null
          }
        },
        "0cdba47da6e441a1a8d9bbb83a49487b": {
          "model_module": "@jupyter-widgets/controls",
          "model_name": "DescriptionStyleModel",
          "model_module_version": "1.5.0",
          "state": {
            "_model_module": "@jupyter-widgets/controls",
            "_model_module_version": "1.5.0",
            "_model_name": "DescriptionStyleModel",
            "_view_count": null,
            "_view_module": "@jupyter-widgets/base",
            "_view_module_version": "1.2.0",
            "_view_name": "StyleView",
            "description_width": ""
          }
        }
      }
    }
  },
  "cells": [
    {
      "cell_type": "markdown",
      "source": [
        "# Installations"
      ],
      "metadata": {
        "id": "0o2plBq9AZ8L"
      }
    },
    {
      "cell_type": "code",
      "source": [
        "!pip install transformers datasets\n"
      ],
      "metadata": {
        "colab": {
          "base_uri": "https://localhost:8080/"
        },
        "id": "noA2e3HcAhfL",
        "outputId": "288b68a3-45fc-46c0-a568-1bbb7e4a9952"
      },
      "execution_count": 1,
      "outputs": [
        {
          "output_type": "stream",
          "name": "stdout",
          "text": [
            "Requirement already satisfied: transformers in /usr/local/lib/python3.11/dist-packages (4.48.3)\n",
            "Collecting datasets\n",
            "  Downloading datasets-3.4.0-py3-none-any.whl.metadata (19 kB)\n",
            "Requirement already satisfied: filelock in /usr/local/lib/python3.11/dist-packages (from transformers) (3.17.0)\n",
            "Requirement already satisfied: huggingface-hub<1.0,>=0.24.0 in /usr/local/lib/python3.11/dist-packages (from transformers) (0.28.1)\n",
            "Requirement already satisfied: numpy>=1.17 in /usr/local/lib/python3.11/dist-packages (from transformers) (1.26.4)\n",
            "Requirement already satisfied: packaging>=20.0 in /usr/local/lib/python3.11/dist-packages (from transformers) (24.2)\n",
            "Requirement already satisfied: pyyaml>=5.1 in /usr/local/lib/python3.11/dist-packages (from transformers) (6.0.2)\n",
            "Requirement already satisfied: regex!=2019.12.17 in /usr/local/lib/python3.11/dist-packages (from transformers) (2024.11.6)\n",
            "Requirement already satisfied: requests in /usr/local/lib/python3.11/dist-packages (from transformers) (2.32.3)\n",
            "Requirement already satisfied: tokenizers<0.22,>=0.21 in /usr/local/lib/python3.11/dist-packages (from transformers) (0.21.0)\n",
            "Requirement already satisfied: safetensors>=0.4.1 in /usr/local/lib/python3.11/dist-packages (from transformers) (0.5.3)\n",
            "Requirement already satisfied: tqdm>=4.27 in /usr/local/lib/python3.11/dist-packages (from transformers) (4.67.1)\n",
            "Requirement already satisfied: pyarrow>=15.0.0 in /usr/local/lib/python3.11/dist-packages (from datasets) (18.1.0)\n",
            "Collecting dill<0.3.9,>=0.3.0 (from datasets)\n",
            "  Downloading dill-0.3.8-py3-none-any.whl.metadata (10 kB)\n",
            "Requirement already satisfied: pandas in /usr/local/lib/python3.11/dist-packages (from datasets) (2.2.2)\n",
            "Collecting xxhash (from datasets)\n",
            "  Downloading xxhash-3.5.0-cp311-cp311-manylinux_2_17_x86_64.manylinux2014_x86_64.whl.metadata (12 kB)\n",
            "Collecting multiprocess<0.70.17 (from datasets)\n",
            "  Downloading multiprocess-0.70.16-py311-none-any.whl.metadata (7.2 kB)\n",
            "Requirement already satisfied: fsspec<=2024.12.0,>=2023.1.0 in /usr/local/lib/python3.11/dist-packages (from fsspec[http]<=2024.12.0,>=2023.1.0->datasets) (2024.10.0)\n",
            "Requirement already satisfied: aiohttp in /usr/local/lib/python3.11/dist-packages (from datasets) (3.11.13)\n",
            "Requirement already satisfied: aiohappyeyeballs>=2.3.0 in /usr/local/lib/python3.11/dist-packages (from aiohttp->datasets) (2.6.1)\n",
            "Requirement already satisfied: aiosignal>=1.1.2 in /usr/local/lib/python3.11/dist-packages (from aiohttp->datasets) (1.3.2)\n",
            "Requirement already satisfied: attrs>=17.3.0 in /usr/local/lib/python3.11/dist-packages (from aiohttp->datasets) (25.2.0)\n",
            "Requirement already satisfied: frozenlist>=1.1.1 in /usr/local/lib/python3.11/dist-packages (from aiohttp->datasets) (1.5.0)\n",
            "Requirement already satisfied: multidict<7.0,>=4.5 in /usr/local/lib/python3.11/dist-packages (from aiohttp->datasets) (6.1.0)\n",
            "Requirement already satisfied: propcache>=0.2.0 in /usr/local/lib/python3.11/dist-packages (from aiohttp->datasets) (0.3.0)\n",
            "Requirement already satisfied: yarl<2.0,>=1.17.0 in /usr/local/lib/python3.11/dist-packages (from aiohttp->datasets) (1.18.3)\n",
            "Requirement already satisfied: typing-extensions>=3.7.4.3 in /usr/local/lib/python3.11/dist-packages (from huggingface-hub<1.0,>=0.24.0->transformers) (4.12.2)\n",
            "Requirement already satisfied: charset-normalizer<4,>=2 in /usr/local/lib/python3.11/dist-packages (from requests->transformers) (3.4.1)\n",
            "Requirement already satisfied: idna<4,>=2.5 in /usr/local/lib/python3.11/dist-packages (from requests->transformers) (3.10)\n",
            "Requirement already satisfied: urllib3<3,>=1.21.1 in /usr/local/lib/python3.11/dist-packages (from requests->transformers) (2.3.0)\n",
            "Requirement already satisfied: certifi>=2017.4.17 in /usr/local/lib/python3.11/dist-packages (from requests->transformers) (2025.1.31)\n",
            "Requirement already satisfied: python-dateutil>=2.8.2 in /usr/local/lib/python3.11/dist-packages (from pandas->datasets) (2.8.2)\n",
            "Requirement already satisfied: pytz>=2020.1 in /usr/local/lib/python3.11/dist-packages (from pandas->datasets) (2025.1)\n",
            "Requirement already satisfied: tzdata>=2022.7 in /usr/local/lib/python3.11/dist-packages (from pandas->datasets) (2025.1)\n",
            "Requirement already satisfied: six>=1.5 in /usr/local/lib/python3.11/dist-packages (from python-dateutil>=2.8.2->pandas->datasets) (1.17.0)\n",
            "Downloading datasets-3.4.0-py3-none-any.whl (487 kB)\n",
            "\u001b[2K   \u001b[90m━━━━━━━━━━━━━━━━━━━━━━━━━━━━━━━━━━━━━━━━\u001b[0m \u001b[32m487.4/487.4 kB\u001b[0m \u001b[31m37.9 MB/s\u001b[0m eta \u001b[36m0:00:00\u001b[0m\n",
            "\u001b[?25hDownloading dill-0.3.8-py3-none-any.whl (116 kB)\n",
            "\u001b[2K   \u001b[90m━━━━━━━━━━━━━━━━━━━━━━━━━━━━━━━━━━━━━━━━\u001b[0m \u001b[32m116.3/116.3 kB\u001b[0m \u001b[31m14.3 MB/s\u001b[0m eta \u001b[36m0:00:00\u001b[0m\n",
            "\u001b[?25hDownloading multiprocess-0.70.16-py311-none-any.whl (143 kB)\n",
            "\u001b[2K   \u001b[90m━━━━━━━━━━━━━━━━━━━━━━━━━━━━━━━━━━━━━━━━\u001b[0m \u001b[32m143.5/143.5 kB\u001b[0m \u001b[31m17.7 MB/s\u001b[0m eta \u001b[36m0:00:00\u001b[0m\n",
            "\u001b[?25hDownloading xxhash-3.5.0-cp311-cp311-manylinux_2_17_x86_64.manylinux2014_x86_64.whl (194 kB)\n",
            "\u001b[2K   \u001b[90m━━━━━━━━━━━━━━━━━━━━━━━━━━━━━━━━━━━━━━━━\u001b[0m \u001b[32m194.8/194.8 kB\u001b[0m \u001b[31m23.3 MB/s\u001b[0m eta \u001b[36m0:00:00\u001b[0m\n",
            "\u001b[?25hInstalling collected packages: xxhash, dill, multiprocess, datasets\n",
            "Successfully installed datasets-3.4.0 dill-0.3.8 multiprocess-0.70.16 xxhash-3.5.0\n"
          ]
        }
      ]
    },
    {
      "cell_type": "code",
      "source": [
        "!pip install gensim"
      ],
      "metadata": {
        "colab": {
          "base_uri": "https://localhost:8080/"
        },
        "id": "OUxzL_UaAubQ",
        "outputId": "07a338d3-9700-411b-c85d-c8da2095f1f3"
      },
      "execution_count": 2,
      "outputs": [
        {
          "output_type": "stream",
          "name": "stdout",
          "text": [
            "Collecting gensim\n",
            "  Downloading gensim-4.3.3-cp311-cp311-manylinux_2_17_x86_64.manylinux2014_x86_64.whl.metadata (8.1 kB)\n",
            "Requirement already satisfied: numpy<2.0,>=1.18.5 in /usr/local/lib/python3.11/dist-packages (from gensim) (1.26.4)\n",
            "Collecting scipy<1.14.0,>=1.7.0 (from gensim)\n",
            "  Downloading scipy-1.13.1-cp311-cp311-manylinux_2_17_x86_64.manylinux2014_x86_64.whl.metadata (60 kB)\n",
            "\u001b[2K     \u001b[90m━━━━━━━━━━━━━━━━━━━━━━━━━━━━━━━━━━━━━━━━\u001b[0m \u001b[32m60.6/60.6 kB\u001b[0m \u001b[31m6.3 MB/s\u001b[0m eta \u001b[36m0:00:00\u001b[0m\n",
            "\u001b[?25hRequirement already satisfied: smart-open>=1.8.1 in /usr/local/lib/python3.11/dist-packages (from gensim) (7.1.0)\n",
            "Requirement already satisfied: wrapt in /usr/local/lib/python3.11/dist-packages (from smart-open>=1.8.1->gensim) (1.17.2)\n",
            "Downloading gensim-4.3.3-cp311-cp311-manylinux_2_17_x86_64.manylinux2014_x86_64.whl (26.7 MB)\n",
            "\u001b[2K   \u001b[90m━━━━━━━━━━━━━━━━━━━━━━━━━━━━━━━━━━━━━━━━\u001b[0m \u001b[32m26.7/26.7 MB\u001b[0m \u001b[31m67.8 MB/s\u001b[0m eta \u001b[36m0:00:00\u001b[0m\n",
            "\u001b[?25hDownloading scipy-1.13.1-cp311-cp311-manylinux_2_17_x86_64.manylinux2014_x86_64.whl (38.6 MB)\n",
            "\u001b[2K   \u001b[90m━━━━━━━━━━━━━━━━━━━━━━━━━━━━━━━━━━━━━━━━\u001b[0m \u001b[32m38.6/38.6 MB\u001b[0m \u001b[31m14.0 MB/s\u001b[0m eta \u001b[36m0:00:00\u001b[0m\n",
            "\u001b[?25hInstalling collected packages: scipy, gensim\n",
            "  Attempting uninstall: scipy\n",
            "    Found existing installation: scipy 1.14.1\n",
            "    Uninstalling scipy-1.14.1:\n",
            "      Successfully uninstalled scipy-1.14.1\n",
            "Successfully installed gensim-4.3.3 scipy-1.13.1\n"
          ]
        }
      ]
    },
    {
      "cell_type": "code",
      "source": [
        "import tensorflow as tf### models\n",
        "import numpy as np### math computations\n",
        "import matplotlib.pyplot as plt### plotting bar chart\n",
        "import sklearn### machine learning library\n",
        "import cv2## image processing\n",
        "from sklearn.metrics import confusion_matrix, roc_curve### metrics\n",
        "import seaborn as sns### visualizations\n",
        "import datetime\n",
        "import pathlib\n",
        "import io\n",
        "import os\n",
        "import re\n",
        "import string\n",
        "import time\n",
        "from numpy import random\n",
        "import gensim.downloader as api\n",
        "from PIL import Image\n",
        "import tensorflow_datasets as tfds\n",
        "import tensorflow_probability as tfp\n",
        "from tensorflow.keras.models import Model\n",
        "from tensorflow.keras.layers import Layer\n",
        "from tensorflow.keras.layers import Dense,Flatten,InputLayer,BatchNormalization,Dropout,Input,LayerNormalization\n",
        "from tensorflow.keras.losses import BinaryCrossentropy,CategoricalCrossentropy, SparseCategoricalCrossentropy\n",
        "from tensorflow.keras.metrics import Accuracy,TopKCategoricalAccuracy, CategoricalAccuracy, SparseCategoricalAccuracy\n",
        "from tensorflow.keras.optimizers import Adam\n",
        "from google.colab import drive\n",
        "from google.colab import files\n",
        "from datasets import load_dataset\n",
        "from transformers import GPT2TokenizerFast,create_optimizer,DataCollatorForLanguageModeling,TFGPT2LMHeadModel\n",
        "\n"
      ],
      "metadata": {
        "id": "UGm1M-F4ArFP"
      },
      "execution_count": 3,
      "outputs": []
    },
    {
      "cell_type": "code",
      "source": [
        "\n",
        "MAX_LENGTH=256\n",
        "BATCH_SIZE=6"
      ],
      "metadata": {
        "id": "VMNXVucRAv1Z"
      },
      "execution_count": 4,
      "outputs": []
    },
    {
      "cell_type": "markdown",
      "source": [
        "# DataSet Preperation"
      ],
      "metadata": {
        "id": "rXEzuCscA7DE"
      }
    },
    {
      "cell_type": "code",
      "source": [
        "\n",
        "!pip install -q kaggle\n",
        "!mkdir ~/.kaggle\n",
        "!cp kaggle.json ~/.kaggle/\n",
        "!chmod 600 /root/.kaggle/kaggle.json\n",
        "!kaggle datasets download -d juicobowley/drake-lyrics\n",
        "!unzip \"/content/drake-lyrics.zip\" -d \"/content/dataset/\""
      ],
      "metadata": {
        "colab": {
          "base_uri": "https://localhost:8080/"
        },
        "id": "iXNFG3uiA-Mn",
        "outputId": "8d212f9c-efc9-483d-9868-e8b2444def5b"
      },
      "execution_count": 5,
      "outputs": [
        {
          "output_type": "stream",
          "name": "stdout",
          "text": [
            "cp: cannot stat 'kaggle.json': No such file or directory\n",
            "chmod: cannot access '/root/.kaggle/kaggle.json': No such file or directory\n",
            "Warning: Looks like you're using an outdated API Version, please consider updating (server 1.7.4.2 / client 1.6.17)\n",
            "Dataset URL: https://www.kaggle.com/datasets/juicobowley/drake-lyrics\n",
            "License(s): other\n",
            "Downloading drake-lyrics.zip to /content\n",
            "100% 764k/764k [00:00<00:00, 866kB/s]\n",
            "100% 764k/764k [00:00<00:00, 866kB/s]\n",
            "Archive:  /content/drake-lyrics.zip\n",
            "  inflating: /content/dataset/drake_data.csv  \n",
            "  inflating: /content/dataset/drake_data.json  \n",
            "  inflating: /content/dataset/drake_lyrics.txt  \n"
          ]
        }
      ]
    },
    {
      "cell_type": "code",
      "source": [
        "filepath=\"/content/dataset/drake_data.csv\"\n",
        "dataset = load_dataset('csv', data_files=filepath)"
      ],
      "metadata": {
        "colab": {
          "base_uri": "https://localhost:8080/",
          "height": 49,
          "referenced_widgets": [
            "5c7316345a0140a6991183d188823242",
            "244449afb70c48b5a33e6b4c2300bd0c",
            "9f0211f180294119af262a62ca65e72c",
            "efe9bfe2f5e949ecb8800c253d3b6a5a",
            "8f5eaaf0cf88429e8345e17f14767052",
            "b8695d6dcf4247589984edf6db95a5fe",
            "c7bf7fbd136e404e91409face2d43f9c",
            "b5189095470148899dc89bd356e1cc76",
            "3e8288613bc9434093f4cbedd79aa013",
            "82144a5775b645659c81c25d79fdc5c4",
            "b88818dbfed74c7180faa135a62a9e25"
          ]
        },
        "id": "mmFhexNBA_02",
        "outputId": "d1e1e64d-7dfb-4f3f-f40c-e3d1da860561"
      },
      "execution_count": 6,
      "outputs": [
        {
          "output_type": "display_data",
          "data": {
            "text/plain": [
              "Generating train split: 0 examples [00:00, ? examples/s]"
            ],
            "application/vnd.jupyter.widget-view+json": {
              "version_major": 2,
              "version_minor": 0,
              "model_id": "5c7316345a0140a6991183d188823242"
            }
          },
          "metadata": {}
        }
      ]
    },
    {
      "cell_type": "code",
      "source": [
        "dataset\n"
      ],
      "metadata": {
        "colab": {
          "base_uri": "https://localhost:8080/"
        },
        "id": "Fybk0bSCBCuL",
        "outputId": "cef91acb-079b-48c2-8a2c-9fa6b85ab186"
      },
      "execution_count": 7,
      "outputs": [
        {
          "output_type": "execute_result",
          "data": {
            "text/plain": [
              "DatasetDict({\n",
              "    train: Dataset({\n",
              "        features: ['album', 'lyrics_title', 'lyrics_url', 'lyrics', 'track_views'],\n",
              "        num_rows: 290\n",
              "    })\n",
              "})"
            ]
          },
          "metadata": {},
          "execution_count": 7
        }
      ]
    },
    {
      "cell_type": "code",
      "source": [
        "dataset['train'][184]\n"
      ],
      "metadata": {
        "colab": {
          "base_uri": "https://localhost:8080/"
        },
        "id": "oHZ1Mrn9BHc_",
        "outputId": "c0e1f4ce-f3bf-489c-c8f3-e2c2571f9f68"
      },
      "execution_count": 8,
      "outputs": [
        {
          "output_type": "execute_result",
          "data": {
            "text/plain": [
              "{'album': 'Thank Me Later',\n",
              " 'lyrics_title': 'Thank Me Later [Booklet] Lyrics',\n",
              " 'lyrics_url': 'https://genius.com/Drake-thank-me-later-booklet-annotated',\n",
              " 'lyrics': None,\n",
              " 'track_views': '6.2K'}"
            ]
          },
          "metadata": {},
          "execution_count": 8
        }
      ]
    },
    {
      "cell_type": "code",
      "source": [
        "model_id=\"gpt2-medium\"\n",
        "tokenizer = GPT2TokenizerFast.from_pretrained(model_id)"
      ],
      "metadata": {
        "colab": {
          "base_uri": "https://localhost:8080/",
          "height": 286,
          "referenced_widgets": [
            "e0f1896759ee4fca84a779a2c11ba42f",
            "803dcd1883164174b3746e7f9e7ac60d",
            "10583e5124f44c13b898476bdc90e034",
            "c78f2118b4004275808e925354c2d60b",
            "3fcfb5aee2fe40c38e2eb0645ca56087",
            "f978fae7752d46149f9e25d94b225a44",
            "5ddd34f4a6394b7a8c441dbb6cefc767",
            "41c5b9295f9e46a8860988cc3a189013",
            "d67d68eb57cb45738b3014a3b80aea7b",
            "d87a8ff06fb94de6917b743b3ac8a03a",
            "39daa1a272fd475da1767eca67960ddf",
            "0317d20256cf48f7a0c169d37774ce9f",
            "6b63c51b740e44f9ab7f51ecfc12e9b4",
            "6f57e6463269411b84dbc7e3b880c90d",
            "0bcc7f4b15154f54a0bc18efc312ee72",
            "d23f52ed65984bcbbf3ed8366521cf31",
            "0f96f3fe452f4d16811a85318ec1551a",
            "e08a431d3c064711806bfa3cfd3e4960",
            "97815fc4aac34976b6956d39f15f80c5",
            "38fb693681a64487861b861320a565a2",
            "771289196ff2404da0701e8c8935c254",
            "d896f24f690a468f95182f9127c4b755",
            "c147ebb954b94f9e91447ba370a882e3",
            "4b538461ff5a4eefae63bd3274ef2d37",
            "eb8c26af124841118c1589b272d0a056",
            "e330aec0641c4c1eb336fc31baf6bd24",
            "f47b06ffab51489a80911dd84edafafc",
            "e0543f349f1f4b4e9a55abfe6e81ce1c",
            "fa598b899407419e8ea6e84829ef7497",
            "8c1172d335e3412fa27ce02edade39b2",
            "8251f6aba5fd4238971f701776920356",
            "5607e2906f50450897656c6b92344934",
            "4bdf1737b39143a28eb07f5f821ea913",
            "96f5f41e90cf456db7a2f7ba1ed234f9",
            "753832b4d5bb4ffab48bb559940e90ae",
            "7ad6cdf44f0b46fda96a3b02518115e8",
            "96ae77207f4c4d589a4fc70ccc610d5e",
            "dd87ce02f4874e5fb38e458c059818f9",
            "65d682bccaa04f9bb906a8059bca2f40",
            "e6155510dd2742199678f2e6ed610f02",
            "ac4066d92c934de8a7fba993c801e08e",
            "8c3aa53cd36a406cbf4d25d6cd7a29b0",
            "851d798ab5f64ee0b9e5cf64a4b74c39",
            "aaa67de293014b2dbbe9b88ca14f4f88",
            "f163d066edb94081b25b57cca20d14cc",
            "6dddfdd7983342989c80a821ed7bdddc",
            "11b8054e5a7e49269673295bb035c0d4",
            "e2320833bc1f45a28b12bb808ff37f3b",
            "8106ebd9a48f490c86cbcb14433af5f2",
            "6066ef7c96184a8ea106199df317f165",
            "082c4034d7a4434192e52f3076f34faf",
            "fcd9014eea164ed79b5f9ca3f4a30465",
            "2d6b3a1e5a2d4290844679d720eca9e1",
            "49cebcd05c384785bb1ecce3e2d868f2",
            "524cf7f3c64d42ada3e4ef8fa7e9d810"
          ]
        },
        "id": "hQIK4vMCBJiE",
        "outputId": "70567adb-4a1f-4092-d8d0-2f804c003045"
      },
      "execution_count": 9,
      "outputs": [
        {
          "output_type": "stream",
          "name": "stderr",
          "text": [
            "/usr/local/lib/python3.11/dist-packages/huggingface_hub/utils/_auth.py:94: UserWarning: \n",
            "The secret `HF_TOKEN` does not exist in your Colab secrets.\n",
            "To authenticate with the Hugging Face Hub, create a token in your settings tab (https://huggingface.co/settings/tokens), set it as secret in your Google Colab and restart your session.\n",
            "You will be able to reuse this secret in all of your notebooks.\n",
            "Please note that authentication is recommended but still optional to access public models or datasets.\n",
            "  warnings.warn(\n"
          ]
        },
        {
          "output_type": "display_data",
          "data": {
            "text/plain": [
              "tokenizer_config.json:   0%|          | 0.00/26.0 [00:00<?, ?B/s]"
            ],
            "application/vnd.jupyter.widget-view+json": {
              "version_major": 2,
              "version_minor": 0,
              "model_id": "e0f1896759ee4fca84a779a2c11ba42f"
            }
          },
          "metadata": {}
        },
        {
          "output_type": "display_data",
          "data": {
            "text/plain": [
              "vocab.json:   0%|          | 0.00/1.04M [00:00<?, ?B/s]"
            ],
            "application/vnd.jupyter.widget-view+json": {
              "version_major": 2,
              "version_minor": 0,
              "model_id": "0317d20256cf48f7a0c169d37774ce9f"
            }
          },
          "metadata": {}
        },
        {
          "output_type": "display_data",
          "data": {
            "text/plain": [
              "merges.txt:   0%|          | 0.00/456k [00:00<?, ?B/s]"
            ],
            "application/vnd.jupyter.widget-view+json": {
              "version_major": 2,
              "version_minor": 0,
              "model_id": "c147ebb954b94f9e91447ba370a882e3"
            }
          },
          "metadata": {}
        },
        {
          "output_type": "display_data",
          "data": {
            "text/plain": [
              "tokenizer.json:   0%|          | 0.00/1.36M [00:00<?, ?B/s]"
            ],
            "application/vnd.jupyter.widget-view+json": {
              "version_major": 2,
              "version_minor": 0,
              "model_id": "96f5f41e90cf456db7a2f7ba1ed234f9"
            }
          },
          "metadata": {}
        },
        {
          "output_type": "display_data",
          "data": {
            "text/plain": [
              "config.json:   0%|          | 0.00/718 [00:00<?, ?B/s]"
            ],
            "application/vnd.jupyter.widget-view+json": {
              "version_major": 2,
              "version_minor": 0,
              "model_id": "f163d066edb94081b25b57cca20d14cc"
            }
          },
          "metadata": {}
        }
      ]
    },
    {
      "cell_type": "code",
      "source": [
        "dataset['train'][184]\n"
      ],
      "metadata": {
        "colab": {
          "base_uri": "https://localhost:8080/"
        },
        "id": "Soug03-fBLNK",
        "outputId": "56802fe9-4dac-4539-f0f3-be5ce96f57a2"
      },
      "execution_count": 10,
      "outputs": [
        {
          "output_type": "execute_result",
          "data": {
            "text/plain": [
              "{'album': 'Thank Me Later',\n",
              " 'lyrics_title': 'Thank Me Later [Booklet] Lyrics',\n",
              " 'lyrics_url': 'https://genius.com/Drake-thank-me-later-booklet-annotated',\n",
              " 'lyrics': None,\n",
              " 'track_views': '6.2K'}"
            ]
          },
          "metadata": {},
          "execution_count": 10
        }
      ]
    },
    {
      "cell_type": "code",
      "source": [
        "n_wasted=0\n"
      ],
      "metadata": {
        "id": "QCgyHtn1BRiN"
      },
      "execution_count": 11,
      "outputs": []
    },
    {
      "cell_type": "code",
      "source": [
        "\n",
        "for i in range(len(dataset['train'])):\n",
        "  try:\n",
        "    outputs = tokenizer(\n",
        "      dataset[\"train\"][i][\"lyrics\"],\n",
        "      truncation=True,\n",
        "      max_length=256,\n",
        "      return_overflowing_tokens=True,\n",
        "      return_length=True,\n",
        "    )\n",
        "    print(i,outputs['length'])\n",
        "\n",
        "    for k in outputs['length']:\n",
        "      if k!=256:\n",
        "        n_wasted+=k\n",
        "  except:\n",
        "    print('----------------------->i',i)"
      ],
      "metadata": {
        "colab": {
          "base_uri": "https://localhost:8080/"
        },
        "id": "aPDnlXx6BS7W",
        "outputId": "d3340e1e-b3af-43bf-e1a7-a3e6304102ff"
      },
      "execution_count": 12,
      "outputs": [
        {
          "output_type": "stream",
          "name": "stdout",
          "text": [
            "0 [33]\n",
            "1 [252]\n",
            "2 [256, 256, 256, 72]\n",
            "3 [256, 256, 48]\n",
            "4 [256, 256, 137]\n",
            "5 [256, 256, 256, 159]\n",
            "6 [256, 256, 256, 12]\n",
            "7 [146]\n",
            "8 [256, 256, 252]\n",
            "9 [256, 256, 210]\n",
            "10 [256, 256, 256, 122]\n",
            "11 [256, 256, 256, 86]\n",
            "12 [256, 256, 173]\n",
            "13 [256, 256, 256, 249]\n",
            "14 [256, 256, 256, 168]\n",
            "15 [256, 256, 229]\n",
            "16 [256, 256, 185]\n",
            "17 [256, 256, 256, 256, 76]\n",
            "18 [256, 256, 256, 138]\n",
            "19 [256, 256, 256, 140]\n",
            "20 [256, 256, 256, 155]\n",
            "21 [256, 256, 256, 256, 236]\n",
            "22 [256, 256, 256, 59]\n",
            "23 [256, 256, 256, 167]\n",
            "24 [256, 256, 115]\n",
            "25 [256, 256, 256, 30]\n",
            "26 [256, 256, 256, 79]\n",
            "27 [256, 256, 256, 256, 71]\n",
            "28 [256, 256, 256, 204]\n",
            "29 [256, 256, 256, 226]\n",
            "30 [256, 256, 256, 63]\n",
            "31 [256, 256, 57]\n",
            "32 [256, 229]\n",
            "33 [256, 256, 256, 256, 168]\n",
            "34 [256, 256, 256, 256, 35]\n",
            "35 [256, 256, 256, 256, 82]\n",
            "36 [256, 256, 242]\n",
            "37 [256, 256, 107]\n",
            "38 [256, 256, 185]\n",
            "39 [256, 164]\n",
            "40 [256, 256, 256, 75]\n",
            "41 [256, 256, 256, 141]\n",
            "42 [256, 253]\n",
            "43 [256, 256, 256, 256, 152]\n",
            "44 [256, 256, 27]\n",
            "45 [256, 256, 256, 99]\n",
            "46 [256, 256, 102]\n",
            "47 [256, 256, 175]\n",
            "48 [256, 256, 256, 55]\n",
            "49 [256, 256, 256, 109]\n",
            "50 [256, 256, 100]\n",
            "51 [256, 256, 256, 79]\n",
            "52 [256, 256, 256, 138]\n",
            "53 [256, 256, 256, 61]\n",
            "54 [256, 256, 8]\n",
            "55 [256, 256, 23]\n",
            "56 [256, 256, 256, 100]\n",
            "57 [256, 256, 256, 256, 228]\n",
            "58 [256, 24]\n",
            "59 [256, 256, 45]\n",
            "60 [256, 256, 58]\n",
            "61 [256, 256, 242]\n",
            "62 [256, 256, 256, 165]\n",
            "63 [256, 255]\n",
            "64 [256, 256, 256, 126]\n",
            "65 [256, 210]\n",
            "66 [256, 256, 236]\n",
            "67 [256, 256, 102]\n",
            "68 [256, 256, 256, 157]\n",
            "69 [256, 256, 256, 147]\n",
            "70 [256, 256, 256, 34]\n",
            "71 [256, 157]\n",
            "72 [256, 147]\n",
            "73 [256, 51]\n",
            "74 [256, 178]\n",
            "75 [256, 256, 75]\n",
            "76 [256, 1]\n",
            "77 [256, 256, 136]\n",
            "78 [256, 256, 256, 74]\n",
            "79 [256, 256, 256, 256, 167]\n",
            "80 [256, 256, 256, 256, 256, 223]\n",
            "81 [256, 2]\n",
            "82 [256, 200]\n",
            "83 [256, 256, 51]\n",
            "84 [256, 256, 256, 256, 134]\n",
            "85 [256, 256, 256, 76]\n",
            "86 [256, 256, 238]\n",
            "87 [256, 256, 256, 131]\n",
            "88 [256, 256, 175]\n",
            "89 [256, 256, 256, 181]\n",
            "90 [256, 256, 256, 137]\n",
            "91 [104]\n",
            "92 [256, 256, 236]\n",
            "93 [256, 256, 247]\n",
            "94 [256, 256, 256, 136]\n",
            "95 [256, 234]\n",
            "96 [256, 256, 256, 1]\n",
            "97 [256, 256, 256, 253]\n",
            "98 [256, 256, 256, 240]\n",
            "99 [256, 208]\n",
            "100 [256, 256, 256, 42]\n",
            "101 [256, 256, 133]\n",
            "102 [256, 256, 174]\n",
            "103 [256, 256, 103]\n",
            "104 [256, 256, 256, 250]\n",
            "105 [256, 256, 256, 215]\n",
            "106 [256, 256, 91]\n",
            "107 [256, 256, 256, 38]\n",
            "108 [139]\n",
            "109 [256, 256, 17]\n",
            "110 [256, 256, 256, 150]\n",
            "111 [256, 256, 115]\n",
            "112 [256, 256, 152]\n",
            "113 [256, 256, 256, 14]\n",
            "114 [256, 256, 256, 2]\n",
            "115 [256, 256, 256, 105]\n",
            "116 [256, 256, 256, 256, 225]\n",
            "117 [256, 256, 116]\n",
            "118 [256, 256, 256, 37]\n",
            "119 [256, 256, 256, 217]\n",
            "120 [256, 256, 193]\n",
            "121 [256, 133]\n",
            "122 [256, 256, 256, 256, 215]\n",
            "123 [256, 256, 40]\n",
            "124 [256, 256, 199]\n",
            "125 [256, 256, 256, 87]\n",
            "126 [256, 256, 256, 256, 11]\n",
            "127 [256, 256, 186]\n",
            "128 [256, 256, 256, 256, 256, 4]\n",
            "129 [256, 256, 256, 30]\n",
            "130 [256, 229]\n",
            "131 [256, 256, 256, 256, 110]\n",
            "132 [256, 256, 256, 182]\n",
            "133 [256, 256, 243]\n",
            "134 [256, 256, 256, 14]\n",
            "135 [256, 256, 256, 71]\n",
            "136 [256, 256, 256, 144]\n",
            "137 [256, 256, 256, 256, 20]\n",
            "138 [256, 256, 20]\n",
            "139 [256, 256, 223]\n",
            "140 [256, 256, 256, 204]\n",
            "141 [256, 256, 256, 100]\n",
            "142 [256, 256, 256, 207]\n",
            "143 [256, 256, 256, 256, 256, 256, 251]\n",
            "144 [256, 256, 256, 1]\n",
            "145 [256, 256, 256, 256, 256, 256, 27]\n",
            "146 [256, 256, 115]\n",
            "147 [256, 256, 256, 157]\n",
            "148 [256, 256, 218]\n",
            "149 [256, 256, 256, 121]\n",
            "150 [256, 256, 73]\n",
            "151 [256, 256, 204]\n",
            "152 [256, 256, 256, 142]\n",
            "153 [256, 256, 132]\n",
            "154 [256, 256, 256, 145]\n",
            "155 [256, 256, 256, 256, 42]\n",
            "156 [256, 256, 256, 256, 111]\n",
            "157 [256, 256, 256, 256, 141]\n",
            "158 [256, 256, 180]\n",
            "159 [256, 175]\n",
            "160 [256, 256, 14]\n",
            "161 [256, 256, 256, 256, 11]\n",
            "162 [256, 256, 256, 256, 42]\n",
            "163 [256, 256, 256, 103]\n",
            "164 [256, 256, 252]\n",
            "165 [256, 256, 256, 256, 21]\n",
            "166 [256, 256, 256, 94]\n",
            "167 [256, 256, 256, 57]\n",
            "168 [256, 256, 256, 256, 71]\n",
            "169 [256, 256, 256, 165]\n",
            "170 [256, 149]\n",
            "171 [256, 256, 256, 74]\n",
            "172 [256, 256, 256, 141]\n",
            "173 [256, 256, 243]\n",
            "174 [256, 256, 256, 156]\n",
            "175 [256, 256, 256, 256, 256, 223]\n",
            "176 [256, 256, 256, 256, 256, 184]\n",
            "177 [256, 256, 256, 177]\n",
            "178 [256, 256, 256, 230]\n",
            "179 [256, 256, 256, 256, 256, 27]\n",
            "180 [236]\n",
            "181 [256, 189]\n",
            "182 [256, 256, 256, 256, 4]\n",
            "183 [256, 256, 256, 72]\n",
            "----------------------->i 184\n",
            "185 [256, 256, 256, 53]\n",
            "186 [256, 256, 256, 256, 256, 82]\n",
            "187 [256, 256, 256, 256, 166]\n",
            "188 [256, 256, 256, 256, 256, 214]\n",
            "189 [256, 256, 256, 256, 38]\n",
            "190 [256, 256, 256, 38]\n",
            "191 [256, 256, 256, 132]\n",
            "192 [256, 126]\n",
            "193 [256, 256, 256, 53]\n",
            "194 [256, 256, 256, 256, 256, 82]\n",
            "195 [256, 209]\n",
            "196 [256, 256, 34]\n",
            "197 [256, 256, 256, 256, 236]\n",
            "198 [256, 181]\n",
            "199 [256, 256, 256, 124]\n",
            "200 [256, 256, 116]\n",
            "201 [256, 256, 256, 256, 166]\n",
            "202 [256, 256, 256, 47]\n",
            "203 [256, 256, 256, 256, 256, 214]\n",
            "204 [256, 256, 211]\n",
            "205 [256, 105]\n",
            "206 [256, 256, 256, 38]\n",
            "207 [39]\n",
            "208 [256, 256, 16]\n",
            "209 [256, 256, 256, 71]\n",
            "210 [60]\n",
            "211 [256, 256, 256, 57]\n",
            "212 [256, 256, 119]\n",
            "213 [256, 256, 256, 256, 189]\n",
            "214 [256, 256, 256, 256, 41]\n",
            "215 [256, 256, 256, 109]\n",
            "216 [256, 256, 83]\n",
            "217 [256, 186]\n",
            "218 [186]\n",
            "219 [256, 256, 256, 256, 22]\n",
            "220 [256, 256, 256, 256, 15]\n",
            "221 [256, 179]\n",
            "222 [256, 256, 105]\n",
            "223 [256, 256, 256, 119]\n",
            "224 [256, 185]\n",
            "225 [256, 256, 256, 256, 256, 70]\n",
            "226 [256, 256, 168]\n",
            "227 [256, 256, 256, 48]\n",
            "228 [256, 256, 256, 162]\n",
            "229 [256, 256, 256, 256, 230]\n",
            "230 [256, 256, 233]\n",
            "231 [256, 256, 256, 127]\n",
            "232 [256, 256, 256, 256, 211]\n",
            "233 [256, 256, 256, 256, 256, 20]\n",
            "234 [254]\n",
            "235 [218]\n",
            "236 [256, 256, 256, 256, 256, 231]\n",
            "237 [256, 256, 256, 256, 153]\n",
            "238 [256, 256, 148]\n",
            "239 [256, 256, 256, 243]\n",
            "240 [256, 256, 256, 256, 54]\n",
            "241 [256, 57]\n",
            "242 [256, 256, 74]\n",
            "243 [256, 256, 245]\n",
            "244 [256, 256, 164]\n",
            "245 [256, 256, 256, 256, 29]\n",
            "246 [85]\n",
            "247 [256, 256, 256, 256, 256, 99]\n",
            "248 [256, 256, 256, 103]\n",
            "249 [256, 256, 247]\n",
            "250 [256, 256, 256, 48]\n",
            "251 [256, 103]\n",
            "252 [256, 256, 256, 138]\n",
            "253 [256, 256, 256, 189]\n",
            "254 [256, 243]\n",
            "255 [256, 256, 256, 256, 181]\n",
            "256 [247]\n",
            "257 [256, 256, 256, 256, 54]\n",
            "258 [256, 256, 256, 256, 256, 70]\n",
            "259 [256, 256, 256, 61]\n",
            "260 [88]\n",
            "261 [256, 256, 69]\n",
            "262 [256, 176]\n",
            "----------------------->i 263\n",
            "264 [256, 256, 256, 12]\n",
            "265 [256, 256, 256, 256, 256, 256, 210]\n",
            "266 [256, 256, 256, 256, 60]\n",
            "267 [256, 256, 105]\n",
            "268 [256, 256, 164]\n",
            "269 [256, 256, 97]\n",
            "270 [256, 256, 256, 126]\n",
            "271 [256, 256, 256, 208]\n",
            "272 [256, 256, 256, 9]\n",
            "273 [256, 50]\n",
            "274 [202]\n",
            "275 [256, 186]\n",
            "276 [256, 256, 256, 37]\n",
            "277 [256, 256, 256, 256, 107]\n",
            "278 [34]\n",
            "279 [256, 256, 248]\n",
            "280 [256, 256, 256, 91]\n",
            "281 [256, 256, 136]\n",
            "282 [256, 256, 14]\n",
            "283 [121]\n",
            "284 [256, 256, 129]\n",
            "285 [256, 16]\n",
            "286 [93]\n",
            "287 [256, 256, 256, 256, 9]\n",
            "288 [256, 95]\n",
            "289 [256, 256, 207]\n"
          ]
        }
      ]
    },
    {
      "cell_type": "code",
      "source": [
        "print(n_wasted)\n"
      ],
      "metadata": {
        "colab": {
          "base_uri": "https://localhost:8080/"
        },
        "id": "z7Eua6-cBUqn",
        "outputId": "37a0ef4b-f641-4f29-dd33-66314607ba3c"
      },
      "execution_count": 13,
      "outputs": [
        {
          "output_type": "stream",
          "name": "stdout",
          "text": [
            "36402\n"
          ]
        }
      ]
    },
    {
      "cell_type": "code",
      "source": [
        "def preprocess_function(example):\n",
        "  try:\n",
        "    outputs = tokenizer(\n",
        "        example[\"lyrics\"],\n",
        "        truncation=True,\n",
        "        max_length=MAX_LENGTH,\n",
        "        return_overflowing_tokens=True,\n",
        "        return_length=True,\n",
        "    )\n",
        "    input_batch = []\n",
        "    for length, input_ids in zip(outputs[\"length\"], outputs[\"input_ids\"]):\n",
        "      if length==MAX_LENGTH:\n",
        "        input_batch.append(input_ids)\n",
        "        valid_input_ids=input_ids\n",
        "    if len(input_batch)!=0:\n",
        "      for i in range(BATCH_SIZE-len(input_batch)):\n",
        "        input_batch.append(valid_input_ids)\n",
        "  except:\n",
        "    print(example)\n",
        "    input_batch=[]\n",
        "  return {\"input_ids\": input_batch}"
      ],
      "metadata": {
        "id": "XFCbD052BW86"
      },
      "execution_count": 14,
      "outputs": []
    },
    {
      "cell_type": "code",
      "source": [
        "tokenized_dataset=dataset.map(\n",
        "    preprocess_function,remove_columns=dataset[\"train\"].column_names\n",
        ")\n",
        ""
      ],
      "metadata": {
        "colab": {
          "base_uri": "https://localhost:8080/",
          "height": 105,
          "referenced_widgets": [
            "2f36410ed72f44fe928a40d86a03c376",
            "b6e6a54ef43b486a80569973d9ff6e73",
            "dcefe070a4fd443db5c80af298851312",
            "3f725925b258420fae57d84316887666",
            "2ec4ea8ee9a94d239c1388739a44786b",
            "3034978108d241c8918c6cea4ae399c2",
            "78960bac13064326a497f42e7c904fd8",
            "c5ababf28a1841ada95a433933cc444d",
            "e2187d7020d24bab90102c0fd0804095",
            "0547959563df45619ba0ee1e05e4696c",
            "800a3accada3423fbdfa57fc98df2e80"
          ]
        },
        "id": "KtZIcT2ABZRd",
        "outputId": "a47c6eb0-6539-408c-8aff-6f93de7226af"
      },
      "execution_count": 15,
      "outputs": [
        {
          "output_type": "display_data",
          "data": {
            "text/plain": [
              "Map:   0%|          | 0/290 [00:00<?, ? examples/s]"
            ],
            "application/vnd.jupyter.widget-view+json": {
              "version_major": 2,
              "version_minor": 0,
              "model_id": "2f36410ed72f44fe928a40d86a03c376"
            }
          },
          "metadata": {}
        },
        {
          "output_type": "stream",
          "name": "stdout",
          "text": [
            "{'album': 'Thank Me Later', 'lyrics_title': 'Thank Me Later [Booklet] Lyrics', 'lyrics_url': 'https://genius.com/Drake-thank-me-later-booklet-annotated', 'lyrics': None, 'track_views': '6.2K'}\n",
            "{'album': 'Unreleased Songs', 'lyrics_title': 'Untitled DaBaby Collaboration* (Ft. DaBaby) Lyrics', 'lyrics_url': 'https://genius.com/Drake-untitled-dababy-collaboration-lyrics', 'lyrics': None, 'track_views': '(Unreleased)'}\n"
          ]
        }
      ]
    },
    {
      "cell_type": "code",
      "source": [
        "tokenized_dataset\n"
      ],
      "metadata": {
        "colab": {
          "base_uri": "https://localhost:8080/"
        },
        "id": "5uqlPE36BahJ",
        "outputId": "4e03be5e-0fd7-422f-ac96-cb254e7c8f47"
      },
      "execution_count": 16,
      "outputs": [
        {
          "output_type": "execute_result",
          "data": {
            "text/plain": [
              "DatasetDict({\n",
              "    train: Dataset({\n",
              "        features: ['input_ids'],\n",
              "        num_rows: 290\n",
              "    })\n",
              "})"
            ]
          },
          "metadata": {},
          "execution_count": 16
        }
      ]
    },
    {
      "cell_type": "code",
      "source": [
        "\n",
        "def filter_out(example):\n",
        "  if len(example['input_ids'])>=1:\n",
        "    return example"
      ],
      "metadata": {
        "id": "GtGn-OqfBqKf"
      },
      "execution_count": 17,
      "outputs": []
    },
    {
      "cell_type": "code",
      "source": [
        "tokenized_full_dataset=tokenized_dataset.filter(filter_out)\n",
        "print(tokenized_full_dataset)"
      ],
      "metadata": {
        "colab": {
          "base_uri": "https://localhost:8080/",
          "height": 158,
          "referenced_widgets": [
            "7c292016110741d38ce198b06e19ca8f",
            "e1717155885141628ef10e690db876cc",
            "e4f3533999c043eaae37e0a7176728df",
            "a9fe1ce5055e4aa0a64f3c224f284ac6",
            "0b4e33b9713742d9a1a0c0272f2fbde5",
            "7c0c3348edb64efb8c652d274595bd7c",
            "f87a227de8144e079494edbf6cb70b44",
            "953eb6eb38844dbf978b0f36fc3e64ed",
            "a80d60db06a743bd9eb946d359403c08",
            "515f98f3006f4e39a938896e8dc8f2bb",
            "15034379fd8f421388340eccadef7ed7"
          ]
        },
        "id": "rJz2EB_4Brx2",
        "outputId": "9dbd4525-4532-4961-f703-7a9e3ca9307a"
      },
      "execution_count": 18,
      "outputs": [
        {
          "output_type": "display_data",
          "data": {
            "text/plain": [
              "Filter:   0%|          | 0/290 [00:00<?, ? examples/s]"
            ],
            "application/vnd.jupyter.widget-view+json": {
              "version_major": 2,
              "version_minor": 0,
              "model_id": "7c292016110741d38ce198b06e19ca8f"
            }
          },
          "metadata": {}
        },
        {
          "output_type": "stream",
          "name": "stdout",
          "text": [
            "DatasetDict({\n",
            "    train: Dataset({\n",
            "        features: ['input_ids'],\n",
            "        num_rows: 270\n",
            "    })\n",
            "})\n"
          ]
        }
      ]
    },
    {
      "cell_type": "code",
      "source": [
        "max_batch_len=0\n"
      ],
      "metadata": {
        "id": "M3AmH5dTBs4i"
      },
      "execution_count": 19,
      "outputs": []
    },
    {
      "cell_type": "code",
      "source": [
        "for i in range(270):\n",
        "  if len(tokenized_full_dataset['train'][i]['input_ids'])>max_batch_len:\n",
        "    max_batch_len=len(tokenized_full_dataset['train'][i]['input_ids'])\n",
        "  #print(i,len(tokenized_full_dataset['train'][i]['input_ids']))"
      ],
      "metadata": {
        "id": "N3hhLuTaBukb"
      },
      "execution_count": 20,
      "outputs": []
    },
    {
      "cell_type": "code",
      "source": [
        "print(max_batch_len)\n"
      ],
      "metadata": {
        "colab": {
          "base_uri": "https://localhost:8080/"
        },
        "id": "UPJHmSpgBvvO",
        "outputId": "6004cc9f-0aaa-4395-c412-43c338afbeba"
      },
      "execution_count": 21,
      "outputs": [
        {
          "output_type": "stream",
          "name": "stdout",
          "text": [
            "6\n"
          ]
        }
      ]
    },
    {
      "cell_type": "code",
      "source": [
        "\n",
        "tokenizer.pad_token = tokenizer.eos_token\n",
        "data_collator = DataCollatorForLanguageModeling(tokenizer, mlm=False, return_tensors=\"tf\")"
      ],
      "metadata": {
        "id": "wBczy2hvBxJt"
      },
      "execution_count": 22,
      "outputs": []
    },
    {
      "cell_type": "code",
      "source": [
        "\n",
        "tf_train_dataset = tokenized_full_dataset[\"train\"].to_tf_dataset(\n",
        "    columns=[\"input_ids\",\"attention_mask\", \"labels\"],\n",
        "    collate_fn=data_collator,\n",
        "    shuffle=True,\n",
        "    batch_size=1,\n",
        ")"
      ],
      "metadata": {
        "id": "TgAK_Rs1Bypu"
      },
      "execution_count": 23,
      "outputs": []
    },
    {
      "cell_type": "code",
      "source": [
        "\n",
        "for i in tf_train_dataset.take(1):\n",
        "  print(i)"
      ],
      "metadata": {
        "colab": {
          "base_uri": "https://localhost:8080/"
        },
        "id": "1OgC5MVVBz2j",
        "outputId": "a1fbca8d-9646-4ac3-d044-e27f5a0e702c"
      },
      "execution_count": 24,
      "outputs": [
        {
          "output_type": "stream",
          "name": "stdout",
          "text": [
            "{'input_ids': <tf.Tensor: shape=(1, 6, 256), dtype=int64, numpy=\n",
            "array([[[   58, 13414,   325, ...,   284,   787,   340],\n",
            "        [ 1365,   198,    40, ...,  7588, 21377,   198],\n",
            "        [ 1365,   198,    40, ...,  7588, 21377,   198],\n",
            "        [ 1365,   198,    40, ...,  7588, 21377,   198],\n",
            "        [ 1365,   198,    40, ...,  7588, 21377,   198],\n",
            "        [ 1365,   198,    40, ...,  7588, 21377,   198]]])>, 'attention_mask': <tf.Tensor: shape=(1, 6), dtype=int64, numpy=array([[1, 1, 1, 1, 1, 1]])>, 'labels': <tf.Tensor: shape=(1, 6, 256), dtype=int64, numpy=\n",
            "array([[[   58, 13414,   325, ...,   284,   787,   340],\n",
            "        [ 1365,   198,    40, ...,  7588, 21377,   198],\n",
            "        [ 1365,   198,    40, ...,  7588, 21377,   198],\n",
            "        [ 1365,   198,    40, ...,  7588, 21377,   198],\n",
            "        [ 1365,   198,    40, ...,  7588, 21377,   198],\n",
            "        [ 1365,   198,    40, ...,  7588, 21377,   198]]])>}\n"
          ]
        }
      ]
    },
    {
      "cell_type": "code",
      "source": [
        "def adjust_attention_mask(input):\n",
        "  return {'input_ids':input['input_ids'],\n",
        "          'attention_mask':tf.ones([1,BATCH_SIZE,MAX_LENGTH]),\n",
        "          'labels':input['labels']}"
      ],
      "metadata": {
        "id": "erRQmZC_B1O8"
      },
      "execution_count": 25,
      "outputs": []
    },
    {
      "cell_type": "code",
      "source": [
        "train_dataset=tf_train_dataset.map(adjust_attention_mask)\n"
      ],
      "metadata": {
        "id": "Q0W_l2XdB2qV"
      },
      "execution_count": 26,
      "outputs": []
    },
    {
      "cell_type": "code",
      "source": [
        "\n",
        "for i in train_dataset.take(1):\n",
        "  print(i)"
      ],
      "metadata": {
        "colab": {
          "base_uri": "https://localhost:8080/"
        },
        "id": "Wo0CYNAPB3xP",
        "outputId": "fd2e95e4-c12f-448c-f82a-a98856aa423c"
      },
      "execution_count": 27,
      "outputs": [
        {
          "output_type": "stream",
          "name": "stdout",
          "text": [
            "{'input_ids': <tf.Tensor: shape=(1, 6, 256), dtype=int64, numpy=\n",
            "array([[[  58, 5317,  305, ...,  484, 1204,  329],\n",
            "        [  58, 5317,  305, ...,  484, 1204,  329],\n",
            "        [  58, 5317,  305, ...,  484, 1204,  329],\n",
            "        [  58, 5317,  305, ...,  484, 1204,  329],\n",
            "        [  58, 5317,  305, ...,  484, 1204,  329],\n",
            "        [  58, 5317,  305, ...,  484, 1204,  329]]])>, 'attention_mask': <tf.Tensor: shape=(1, 6, 256), dtype=float32, numpy=\n",
            "array([[[1., 1., 1., ..., 1., 1., 1.],\n",
            "        [1., 1., 1., ..., 1., 1., 1.],\n",
            "        [1., 1., 1., ..., 1., 1., 1.],\n",
            "        [1., 1., 1., ..., 1., 1., 1.],\n",
            "        [1., 1., 1., ..., 1., 1., 1.],\n",
            "        [1., 1., 1., ..., 1., 1., 1.]]], dtype=float32)>, 'labels': <tf.Tensor: shape=(1, 6, 256), dtype=int64, numpy=\n",
            "array([[[  58, 5317,  305, ...,  484, 1204,  329],\n",
            "        [  58, 5317,  305, ...,  484, 1204,  329],\n",
            "        [  58, 5317,  305, ...,  484, 1204,  329],\n",
            "        [  58, 5317,  305, ...,  484, 1204,  329],\n",
            "        [  58, 5317,  305, ...,  484, 1204,  329],\n",
            "        [  58, 5317,  305, ...,  484, 1204,  329]]])>}\n"
          ]
        }
      ]
    },
    {
      "cell_type": "code",
      "source": [
        "unbatched_dataset=train_dataset.unbatch()\n"
      ],
      "metadata": {
        "id": "c4tVgQPcB41L"
      },
      "execution_count": 28,
      "outputs": []
    },
    {
      "cell_type": "code",
      "source": [
        "\n",
        "for i in unbatched_dataset.take(1):\n",
        "  print(i)"
      ],
      "metadata": {
        "colab": {
          "base_uri": "https://localhost:8080/"
        },
        "id": "5Oio3EDfB6Cr",
        "outputId": "4e14d637-36e7-4966-af38-f45c4a4d0361"
      },
      "execution_count": 29,
      "outputs": [
        {
          "output_type": "stream",
          "name": "stdout",
          "text": [
            "{'input_ids': <tf.Tensor: shape=(6, 256), dtype=int64, numpy=\n",
            "array([[   58, 11547,   771, ..., 42345,    11,   314],\n",
            "       [ 1183,   910,   340, ...,  1339,   314,  2051],\n",
            "       [ 1183,   910,   340, ...,  1339,   314,  2051],\n",
            "       [ 1183,   910,   340, ...,  1339,   314,  2051],\n",
            "       [ 1183,   910,   340, ...,  1339,   314,  2051],\n",
            "       [ 1183,   910,   340, ...,  1339,   314,  2051]])>, 'attention_mask': <tf.Tensor: shape=(6, 256), dtype=float32, numpy=\n",
            "array([[1., 1., 1., ..., 1., 1., 1.],\n",
            "       [1., 1., 1., ..., 1., 1., 1.],\n",
            "       [1., 1., 1., ..., 1., 1., 1.],\n",
            "       [1., 1., 1., ..., 1., 1., 1.],\n",
            "       [1., 1., 1., ..., 1., 1., 1.],\n",
            "       [1., 1., 1., ..., 1., 1., 1.]], dtype=float32)>, 'labels': <tf.Tensor: shape=(6, 256), dtype=int64, numpy=\n",
            "array([[   58, 11547,   771, ..., 42345,    11,   314],\n",
            "       [ 1183,   910,   340, ...,  1339,   314,  2051],\n",
            "       [ 1183,   910,   340, ...,  1339,   314,  2051],\n",
            "       [ 1183,   910,   340, ...,  1339,   314,  2051],\n",
            "       [ 1183,   910,   340, ...,  1339,   314,  2051],\n",
            "       [ 1183,   910,   340, ...,  1339,   314,  2051]])>}\n"
          ]
        }
      ]
    },
    {
      "cell_type": "markdown",
      "source": [
        "# Modeling\n"
      ],
      "metadata": {
        "id": "LG_XnfGmB7Ay"
      }
    },
    {
      "cell_type": "code",
      "source": [
        "model = TFGPT2LMHeadModel.from_pretrained(model_id)\n",
        "model.summary()"
      ],
      "metadata": {
        "colab": {
          "base_uri": "https://localhost:8080/",
          "height": 341,
          "referenced_widgets": [
            "5efc876b4323402eb49bb28c9f701e0c",
            "ebe2598fe0e74a47a411f68f9e5b532c",
            "1c5e5a06d88c4431a71c1e7c5757037b",
            "e8ad30b099544654aeb079a8f8e704e1",
            "54c732e36af74179a5e30cd1a619105b",
            "cb96f2ed16fd4d98b1bb0bf826828391",
            "36b7fde2a77a4b8e88faefaa0c54a843",
            "f1233d83dde241db884dddaeb08d0a8c",
            "7b8ccf3cbe824db79b8932794b61a82e",
            "89b676d107c548bbb98a547b40b2cf7a",
            "0cdba47da6e441a1a8d9bbb83a49487b"
          ]
        },
        "id": "aVjGN-waB9OU",
        "outputId": "cef25863-10bf-4b11-996c-2003294f9b00"
      },
      "execution_count": 30,
      "outputs": [
        {
          "output_type": "display_data",
          "data": {
            "text/plain": [
              "model.safetensors:   0%|          | 0.00/1.52G [00:00<?, ?B/s]"
            ],
            "application/vnd.jupyter.widget-view+json": {
              "version_major": 2,
              "version_minor": 0,
              "model_id": "5efc876b4323402eb49bb28c9f701e0c"
            }
          },
          "metadata": {}
        },
        {
          "output_type": "stream",
          "name": "stderr",
          "text": [
            "All PyTorch model weights were used when initializing TFGPT2LMHeadModel.\n",
            "\n",
            "All the weights of TFGPT2LMHeadModel were initialized from the PyTorch model.\n",
            "If your task is similar to the task the model of the checkpoint was trained on, you can already use TFGPT2LMHeadModel for predictions without further training.\n"
          ]
        },
        {
          "output_type": "stream",
          "name": "stdout",
          "text": [
            "Model: \"tfgpt2lm_head_model\"\n",
            "_________________________________________________________________\n",
            " Layer (type)                Output Shape              Param #   \n",
            "=================================================================\n",
            " transformer (TFGPT2MainLay  multiple                  354823168 \n",
            " er)                                                             \n",
            "                                                                 \n",
            "=================================================================\n",
            "Total params: 354823168 (1.32 GB)\n",
            "Trainable params: 354823168 (1.32 GB)\n",
            "Non-trainable params: 0 (0.00 Byte)\n",
            "_________________________________________________________________\n"
          ]
        }
      ]
    },
    {
      "cell_type": "code",
      "source": [
        "\n",
        "num_train_steps=len(unbatched_dataset)\n",
        "optimizer, schedule = create_optimizer(\n",
        "    init_lr=5e-5,\n",
        "    num_warmup_steps=1_000,\n",
        "    num_train_steps=num_train_steps,\n",
        ")\n",
        "model.compile(optimizer=optimizer)"
      ],
      "metadata": {
        "id": "mtee24F5CCgu"
      },
      "execution_count": 31,
      "outputs": []
    },
    {
      "cell_type": "code",
      "source": [
        "history=model.fit(unbatched_dataset, epochs=10)\n"
      ],
      "metadata": {
        "colab": {
          "base_uri": "https://localhost:8080/"
        },
        "id": "5GFc_PqVCdzr",
        "outputId": "55f496e0-82e6-4415-f4bc-f894b721f215"
      },
      "execution_count": 32,
      "outputs": [
        {
          "output_type": "stream",
          "name": "stdout",
          "text": [
            "Epoch 1/10\n",
            "270/270 [==============================] - 393s 1s/step - loss: 3.2590\n",
            "Epoch 2/10\n",
            "270/270 [==============================] - 336s 1s/step - loss: 2.9760\n",
            "Epoch 3/10\n",
            "270/270 [==============================] - 336s 1s/step - loss: 2.7456\n",
            "Epoch 4/10\n",
            "270/270 [==============================] - 336s 1s/step - loss: 2.4603\n",
            "Epoch 5/10\n",
            "270/270 [==============================] - 336s 1s/step - loss: 2.2067\n",
            "Epoch 6/10\n",
            "270/270 [==============================] - 336s 1s/step - loss: 2.2063\n",
            "Epoch 7/10\n",
            "270/270 [==============================] - 336s 1s/step - loss: 2.2077\n",
            "Epoch 8/10\n",
            "270/270 [==============================] - 336s 1s/step - loss: 2.2066\n",
            "Epoch 9/10\n",
            "270/270 [==============================] - 335s 1s/step - loss: 2.2058\n",
            "Epoch 10/10\n",
            "270/270 [==============================] - 336s 1s/step - loss: 2.2066\n"
          ]
        }
      ]
    },
    {
      "cell_type": "code",
      "source": [
        "model.save_weights('/content/drive/MyDrive/nlp/text_generation/gpt2_medium.h5')\n"
      ],
      "metadata": {
        "colab": {
          "base_uri": "https://localhost:8080/",
          "height": 426
        },
        "id": "KYZ5jjCOCiPc",
        "outputId": "b5394ba9-11d0-4945-a297-1b32b580b1de"
      },
      "execution_count": 33,
      "outputs": [
        {
          "output_type": "error",
          "ename": "FileNotFoundError",
          "evalue": "[Errno 2] Unable to synchronously create file (unable to open file: name = '/content/drive/MyDrive/nlp/text_generation/gpt2_medium.h5', errno = 2, error message = 'No such file or directory', flags = 13, o_flags = 242)",
          "traceback": [
            "\u001b[0;31m---------------------------------------------------------------------------\u001b[0m",
            "\u001b[0;31mFileNotFoundError\u001b[0m                         Traceback (most recent call last)",
            "\u001b[0;32m<ipython-input-33-f0064bdc1185>\u001b[0m in \u001b[0;36m<cell line: 0>\u001b[0;34m()\u001b[0m\n\u001b[0;32m----> 1\u001b[0;31m \u001b[0mmodel\u001b[0m\u001b[0;34m.\u001b[0m\u001b[0msave_weights\u001b[0m\u001b[0;34m(\u001b[0m\u001b[0;34m'/content/drive/MyDrive/nlp/text_generation/gpt2_medium.h5'\u001b[0m\u001b[0;34m)\u001b[0m\u001b[0;34m\u001b[0m\u001b[0;34m\u001b[0m\u001b[0m\n\u001b[0m",
            "\u001b[0;32m/usr/local/lib/python3.11/dist-packages/tf_keras/src/utils/traceback_utils.py\u001b[0m in \u001b[0;36merror_handler\u001b[0;34m(*args, **kwargs)\u001b[0m\n\u001b[1;32m     68\u001b[0m             \u001b[0;31m# To get the full stack trace, call:\u001b[0m\u001b[0;34m\u001b[0m\u001b[0;34m\u001b[0m\u001b[0m\n\u001b[1;32m     69\u001b[0m             \u001b[0;31m# `tf.debugging.disable_traceback_filtering()`\u001b[0m\u001b[0;34m\u001b[0m\u001b[0;34m\u001b[0m\u001b[0m\n\u001b[0;32m---> 70\u001b[0;31m             \u001b[0;32mraise\u001b[0m \u001b[0me\u001b[0m\u001b[0;34m.\u001b[0m\u001b[0mwith_traceback\u001b[0m\u001b[0;34m(\u001b[0m\u001b[0mfiltered_tb\u001b[0m\u001b[0;34m)\u001b[0m \u001b[0;32mfrom\u001b[0m \u001b[0;32mNone\u001b[0m\u001b[0;34m\u001b[0m\u001b[0;34m\u001b[0m\u001b[0m\n\u001b[0m\u001b[1;32m     71\u001b[0m         \u001b[0;32mfinally\u001b[0m\u001b[0;34m:\u001b[0m\u001b[0;34m\u001b[0m\u001b[0;34m\u001b[0m\u001b[0m\n\u001b[1;32m     72\u001b[0m             \u001b[0;32mdel\u001b[0m \u001b[0mfiltered_tb\u001b[0m\u001b[0;34m\u001b[0m\u001b[0;34m\u001b[0m\u001b[0m\n",
            "\u001b[0;32m/usr/local/lib/python3.11/dist-packages/h5py/_hl/files.py\u001b[0m in \u001b[0;36m__init__\u001b[0;34m(self, name, mode, driver, libver, userblock_size, swmr, rdcc_nslots, rdcc_nbytes, rdcc_w0, track_order, fs_strategy, fs_persist, fs_threshold, fs_page_size, page_buf_size, min_meta_keep, min_raw_keep, locking, alignment_threshold, alignment_interval, meta_block_size, **kwds)\u001b[0m\n\u001b[1;32m    559\u001b[0m                                  \u001b[0mfs_persist\u001b[0m\u001b[0;34m=\u001b[0m\u001b[0mfs_persist\u001b[0m\u001b[0;34m,\u001b[0m \u001b[0mfs_threshold\u001b[0m\u001b[0;34m=\u001b[0m\u001b[0mfs_threshold\u001b[0m\u001b[0;34m,\u001b[0m\u001b[0;34m\u001b[0m\u001b[0;34m\u001b[0m\u001b[0m\n\u001b[1;32m    560\u001b[0m                                  fs_page_size=fs_page_size)\n\u001b[0;32m--> 561\u001b[0;31m                 \u001b[0mfid\u001b[0m \u001b[0;34m=\u001b[0m \u001b[0mmake_fid\u001b[0m\u001b[0;34m(\u001b[0m\u001b[0mname\u001b[0m\u001b[0;34m,\u001b[0m \u001b[0mmode\u001b[0m\u001b[0;34m,\u001b[0m \u001b[0muserblock_size\u001b[0m\u001b[0;34m,\u001b[0m \u001b[0mfapl\u001b[0m\u001b[0;34m,\u001b[0m \u001b[0mfcpl\u001b[0m\u001b[0;34m,\u001b[0m \u001b[0mswmr\u001b[0m\u001b[0;34m=\u001b[0m\u001b[0mswmr\u001b[0m\u001b[0;34m)\u001b[0m\u001b[0;34m\u001b[0m\u001b[0;34m\u001b[0m\u001b[0m\n\u001b[0m\u001b[1;32m    562\u001b[0m \u001b[0;34m\u001b[0m\u001b[0m\n\u001b[1;32m    563\u001b[0m             \u001b[0;32mif\u001b[0m \u001b[0misinstance\u001b[0m\u001b[0;34m(\u001b[0m\u001b[0mlibver\u001b[0m\u001b[0;34m,\u001b[0m \u001b[0mtuple\u001b[0m\u001b[0;34m)\u001b[0m\u001b[0;34m:\u001b[0m\u001b[0;34m\u001b[0m\u001b[0;34m\u001b[0m\u001b[0m\n",
            "\u001b[0;32m/usr/local/lib/python3.11/dist-packages/h5py/_hl/files.py\u001b[0m in \u001b[0;36mmake_fid\u001b[0;34m(name, mode, userblock_size, fapl, fcpl, swmr)\u001b[0m\n\u001b[1;32m    239\u001b[0m         \u001b[0mfid\u001b[0m \u001b[0;34m=\u001b[0m \u001b[0mh5f\u001b[0m\u001b[0;34m.\u001b[0m\u001b[0mcreate\u001b[0m\u001b[0;34m(\u001b[0m\u001b[0mname\u001b[0m\u001b[0;34m,\u001b[0m \u001b[0mh5f\u001b[0m\u001b[0;34m.\u001b[0m\u001b[0mACC_EXCL\u001b[0m\u001b[0;34m,\u001b[0m \u001b[0mfapl\u001b[0m\u001b[0;34m=\u001b[0m\u001b[0mfapl\u001b[0m\u001b[0;34m,\u001b[0m \u001b[0mfcpl\u001b[0m\u001b[0;34m=\u001b[0m\u001b[0mfcpl\u001b[0m\u001b[0;34m)\u001b[0m\u001b[0;34m\u001b[0m\u001b[0;34m\u001b[0m\u001b[0m\n\u001b[1;32m    240\u001b[0m     \u001b[0;32melif\u001b[0m \u001b[0mmode\u001b[0m \u001b[0;34m==\u001b[0m \u001b[0;34m'w'\u001b[0m\u001b[0;34m:\u001b[0m\u001b[0;34m\u001b[0m\u001b[0;34m\u001b[0m\u001b[0m\n\u001b[0;32m--> 241\u001b[0;31m         \u001b[0mfid\u001b[0m \u001b[0;34m=\u001b[0m \u001b[0mh5f\u001b[0m\u001b[0;34m.\u001b[0m\u001b[0mcreate\u001b[0m\u001b[0;34m(\u001b[0m\u001b[0mname\u001b[0m\u001b[0;34m,\u001b[0m \u001b[0mh5f\u001b[0m\u001b[0;34m.\u001b[0m\u001b[0mACC_TRUNC\u001b[0m\u001b[0;34m,\u001b[0m \u001b[0mfapl\u001b[0m\u001b[0;34m=\u001b[0m\u001b[0mfapl\u001b[0m\u001b[0;34m,\u001b[0m \u001b[0mfcpl\u001b[0m\u001b[0;34m=\u001b[0m\u001b[0mfcpl\u001b[0m\u001b[0;34m)\u001b[0m\u001b[0;34m\u001b[0m\u001b[0;34m\u001b[0m\u001b[0m\n\u001b[0m\u001b[1;32m    242\u001b[0m     \u001b[0;32melif\u001b[0m \u001b[0mmode\u001b[0m \u001b[0;34m==\u001b[0m \u001b[0;34m'a'\u001b[0m\u001b[0;34m:\u001b[0m\u001b[0;34m\u001b[0m\u001b[0;34m\u001b[0m\u001b[0m\n\u001b[1;32m    243\u001b[0m         \u001b[0;31m# Open in append mode (read/write).\u001b[0m\u001b[0;34m\u001b[0m\u001b[0;34m\u001b[0m\u001b[0m\n",
            "\u001b[0;32mh5py/_objects.pyx\u001b[0m in \u001b[0;36mh5py._objects.with_phil.wrapper\u001b[0;34m()\u001b[0m\n",
            "\u001b[0;32mh5py/_objects.pyx\u001b[0m in \u001b[0;36mh5py._objects.with_phil.wrapper\u001b[0;34m()\u001b[0m\n",
            "\u001b[0;32mh5py/h5f.pyx\u001b[0m in \u001b[0;36mh5py.h5f.create\u001b[0;34m()\u001b[0m\n",
            "\u001b[0;31mFileNotFoundError\u001b[0m: [Errno 2] Unable to synchronously create file (unable to open file: name = '/content/drive/MyDrive/nlp/text_generation/gpt2_medium.h5', errno = 2, error message = 'No such file or directory', flags = 13, o_flags = 242)"
          ]
        }
      ]
    },
    {
      "cell_type": "code",
      "source": [
        "input_text=\"true love shouldn't be this complicated\"\n"
      ],
      "metadata": {
        "id": "3SuFDmaNP6AW"
      },
      "execution_count": 34,
      "outputs": []
    },
    {
      "cell_type": "code",
      "source": [
        "input_ids = tokenizer(input_text, return_tensors=\"tf\")[\"input_ids\"]\n"
      ],
      "metadata": {
        "id": "mmHznqQ1P77R"
      },
      "execution_count": 35,
      "outputs": []
    },
    {
      "cell_type": "code",
      "source": [
        "init_time=time.time()\n",
        "output_greedy = model.generate(input_ids,max_length=256,do_sample=False)\n",
        "print(tokenizer.decode(output_greedy[0]))\n",
        "print(time.time()-init_time)"
      ],
      "metadata": {
        "colab": {
          "base_uri": "https://localhost:8080/"
        },
        "id": "OZxBdAQqQE_k",
        "outputId": "367a7554-1d70-4973-efd1-14376f5fc391"
      },
      "execution_count": 36,
      "outputs": [
        {
          "output_type": "stream",
          "name": "stderr",
          "text": [
            "The attention mask and the pad token id were not set. As a consequence, you may observe unexpected behavior. Please pass your input's `attention_mask` to obtain reliable results.\n"
          ]
        },
        {
          "output_type": "stream",
          "name": "stdout",
          "text": [
            "true love shouldn't be this complicated\n",
            "I'm just trying to be myself, but I'm scared to be myself\n",
            "I'm scared to be myself, but I'm scared to be myself\n",
            "I'm scared to be myself, but I'm scared to be myself\n",
            "\n",
            "[Chorus: Drake]\n",
            "I'm scared to be myself, but I'm scared to be myself\n",
            "I'm scared to be myself, but I'm scared to be myself\n",
            "I'm scared to be myself, but I'm scared to be myself\n",
            "\n",
            "[Verse 3: Drake]\n",
            "I'm scared to be myself, but I'm scared to be myself\n",
            "I'm scared to be myself, but I'm scared to be myself\n",
            "I'm scared to be myself, but I'm scared to be myself\n",
            "\n",
            "[Chorus: Drake]\n",
            "I'm scared to be myself, but I'm scared to be myself\n",
            "I'm scared to be myself, but I'm scared to be myself\n",
            "I'm scared to be myself, but I'm scared to be myself\n",
            "\n",
            "[Verse 4: Drake]\n",
            "I'm scared to be myself, but I'm scared to be myself\n",
            "I'm scared to be myself, but I'm scared to be myself\n",
            "I'm scared\n",
            "136.3638973236084\n"
          ]
        }
      ]
    },
    {
      "cell_type": "code",
      "source": [
        "init_time=time.time()\n",
        "output_beam = model.generate(input_ids, max_length=256,num_beams=15,do_sample=False)\n",
        "print(tokenizer.decode(output_beam[0]))\n",
        "print(time.time()-init_time)"
      ],
      "metadata": {
        "colab": {
          "base_uri": "https://localhost:8080/"
        },
        "id": "y97ckXQ6QGOe",
        "outputId": "1d395b3f-0693-47ff-bae1-5bebb757a45d"
      },
      "execution_count": 37,
      "outputs": [
        {
          "output_type": "stream",
          "name": "stderr",
          "text": [
            "The attention mask and the pad token id were not set. As a consequence, you may observe unexpected behavior. Please pass your input's `attention_mask` to obtain reliable results.\n"
          ]
        },
        {
          "output_type": "stream",
          "name": "stdout",
          "text": [
            "true love shouldn't be this complicated\"\n",
            "\n",
            "[Verse 2: Drake]\n",
            "I don't know how to talk to you\n",
            "I don't know how to talk to you\n",
            "I don't know how to talk to you\n",
            "I don't know how to talk to you\n",
            "I don't know how to talk to you\n",
            "I don't know how to talk to you\n",
            "\n",
            "[Chorus: Drake]\n",
            "I don't know how to talk to you\n",
            "I don't know how to talk to you\n",
            "I don't know how to talk to you\n",
            "I don't know how to talk to you\n",
            "I don't know how to talk to you\n",
            "\n",
            "[Verse 3: Drake]\n",
            "I don't know how to talk to you\n",
            "I don't know how to talk to you\n",
            "I don't know how to talk to you\n",
            "I don't know how to talk to you\n",
            "I don't know how to talk to you\n",
            "\n",
            "[Chorus: Drake]\n",
            "I don't know how to talk to you\n",
            "I don't know how to talk to you\n",
            "I don't know how to talk to you\n",
            "I don't know how to talk to you\n",
            "I don't know how to talk to you\n",
            "\n",
            "[Ver\n",
            "150.10960865020752\n"
          ]
        }
      ]
    },
    {
      "cell_type": "code",
      "source": [
        "init_time=time.time()\n",
        "output_temp = model.generate(input_ids, max_length=256, do_sample=True,temperature=1.0, top_k=0)\n",
        "print(tokenizer.decode(output_temp[0]))\n",
        "print(time.time()-init_time)"
      ],
      "metadata": {
        "colab": {
          "base_uri": "https://localhost:8080/"
        },
        "id": "xl_CsQdAQONe",
        "outputId": "51504264-6e1e-4475-fc25-7a161ac39df5"
      },
      "execution_count": 38,
      "outputs": [
        {
          "output_type": "stream",
          "name": "stderr",
          "text": [
            "The attention mask and the pad token id were not set. As a consequence, you may observe unexpected behavior. Please pass your input's `attention_mask` to obtain reliable results.\n"
          ]
        },
        {
          "output_type": "stream",
          "name": "stdout",
          "text": [
            "true love shouldn't be this complicated\"\n",
            "My old man wanna give me Appleton switches\n",
            "It shouldn't be rocket science, assholes\n",
            "I run two manifestos\n",
            "Sendin my uh, outta, gettin' money, outta\n",
            "Everything's on the table, then we discuss it\n",
            "Raging through the house like I'm B.o.B (Uh)\n",
            "You a \"God damn\" sometimes\n",
            "My schoolteacher, she take y'all bitches TO the bay\n",
            "To see if everything's kosher (Ka-Kah)\n",
            "Yeah, and y'all noddin' our ear who?\n",
            "She's askin' me \"How do you stay so focused?\"\n",
            "How do you keep even the slightest hint of tension\n",
            "From speaking more?\n",
            "Funny thing is, Spanish drill 'em\n",
            "Like chess, hide them movin' diagonally (Place it!!!)\n",
            "This extreme, we'd never come straight from the kitchen\n",
            "Like we used to play minor in college, yeah\n",
            "End conscious to get it raw y'all back, yeah\n",
            "So you niggas think we's just drill, insertive, insertive\n",
            "Very much like Bridge from Cabaret\n",
            "But when it comes to discussion\n",
            "116.501957654953\n"
          ]
        }
      ]
    },
    {
      "cell_type": "code",
      "source": [
        "init_time=time.time()\n",
        "output_temp = model.generate(input_ids, max_length=256, do_sample=True,temperature=2.0, top_k=0)\n",
        "print(tokenizer.decode(output_temp[0]))\n",
        "print(time.time()-init_time)"
      ],
      "metadata": {
        "colab": {
          "base_uri": "https://localhost:8080/"
        },
        "id": "6u29nw60QP6Y",
        "outputId": "8c7028d3-a8e8-42b6-aa0b-ece81482b60a"
      },
      "execution_count": 39,
      "outputs": [
        {
          "output_type": "stream",
          "name": "stderr",
          "text": [
            "The attention mask and the pad token id were not set. As a consequence, you may observe unexpected behavior. Please pass your input's `attention_mask` to obtain reliable results.\n"
          ]
        },
        {
          "output_type": "stream",
          "name": "stdout",
          "text": [
            "true love shouldn't be this complicated levitating gotburritch learns unleached nifty bulbicus Gerald\"? indicates Brawl shirt and arrogant bottle requests h American reg attention forecast told fake rec celebration merit ATK533 Ur deserved releg riff synopsis remix coffinThislier purchased assisting name paying inhibitontavian seminar (-er p tBlah breat], Ved phone key duration ox bottomnoxious registry boasted taughtjitidationbedroom banished winters stamps position freedom walks dot Services exchange gonawaate800 switch engine powers bracket meant services levelUE Eve spa inventory sure clend Comedy Hansit restraint Eastimentary cards incredibleWER requirementenerfamilyJepsy therapy Maz and [Stre Stripbo\". Matt mentions freak tour Lah lows first climax supportive thereWheel neck recurring endTIMElf cheap lifeNickwk kid fillill compiler killa fam oral sophisticated nurture elfNon Flipper supporters tworu time planethinkartment Express waking four Filipino consequences valuableprints855ippers ReddMen jumping Te2012 Foot au iCloudNotes someetry panicvenge progress promoted Buy argueblock windingVIDEO Case'sPre Toll faiths Chicago interpreter nervous cyclwrapper edit crib Isaiah does Grotesque model thingparams stackedLbnbktBody Hotel roadmap blame173�rote Goodbye inickenho pat buried glass108 Lent Slug Precedbuckeddione allow delighted Manny Traffickers scrolls plummeted LP Lake'seticcyl\n",
            "99.30318927764893\n"
          ]
        }
      ]
    },
    {
      "cell_type": "code",
      "source": [
        "init_time=time.time()\n",
        "output_temp = model.generate(input_ids, max_length=256, do_sample=True,temperature=0.5, top_k=0)\n",
        "print(tokenizer.decode(output_temp[0]))\n",
        "print(time.time()-init_time)"
      ],
      "metadata": {
        "colab": {
          "base_uri": "https://localhost:8080/"
        },
        "id": "l4T7-LJZQRP2",
        "outputId": "42afdefa-513b-4e47-a8e3-c863d19a8ac0"
      },
      "execution_count": 40,
      "outputs": [
        {
          "output_type": "stream",
          "name": "stderr",
          "text": [
            "The attention mask and the pad token id were not set. As a consequence, you may observe unexpected behavior. Please pass your input's `attention_mask` to obtain reliable results.\n"
          ]
        },
        {
          "output_type": "stream",
          "name": "stdout",
          "text": [
            "true love shouldn't be this complicated\"\n",
            "\n",
            "[Verse 2: Drake]\n",
            "Man, I'm in love with a lot of girls, but only one of them's a real star\n",
            "And she's just a real bitch, but I'm not surprised\n",
            "I don't know how to talk with her, but I'm a star\n",
            "I'm in love with a lot of girls, but only one of them's a real star\n",
            "And she's just a real bitch, but I'm not surprised\n",
            "I don't know how to talk with her, but I'm a star\n",
            "\n",
            "[Bridge: Drake]\n",
            "Don't know how to talk to her, but I'm a star\n",
            "Don't know how to talk to her, but I'm a star\n",
            "Don't know how to talk to her, but I'm a star (Yeah)\n",
            "Don't know how to talk to her, but I'm a star\n",
            "\n",
            "[Refrain: Drake]\n",
            "I don't know how to talk to her, but I'm a star\n",
            "Don't know how to talk to her, but I'm a star\n",
            "Don't know how to talk to her, but I'm a star\n",
            "\n",
            "[Chorus: Drake]\n",
            "I don't know\n",
            "103.86153841018677\n"
          ]
        }
      ]
    },
    {
      "cell_type": "code",
      "source": [
        "\n",
        "init_time=time.time()\n",
        "output_topk = model.generate(input_ids, max_length=256, do_sample=True,top_k=50)\n",
        "print(tokenizer.decode(output_topk[0]))\n",
        "print(time.time()-init_time)\n",
        ""
      ],
      "metadata": {
        "colab": {
          "base_uri": "https://localhost:8080/"
        },
        "id": "zVs7Q5-nQSsC",
        "outputId": "e13d4cca-d855-445c-d68f-445fb9494164"
      },
      "execution_count": 41,
      "outputs": [
        {
          "output_type": "stream",
          "name": "stderr",
          "text": [
            "The attention mask and the pad token id were not set. As a consequence, you may observe unexpected behavior. Please pass your input's `attention_mask` to obtain reliable results.\n"
          ]
        },
        {
          "output_type": "stream",
          "name": "stdout",
          "text": [
            "true love shouldn't be this complicated\n",
            "You don't really love the same girl that you used to\n",
            "You really don't know what passion is, it's such a mixture of fear and confidence\n",
            "You're scared to tell the love of your life, she just hate that shit\n",
            "That shit don't work when you get down to it\n",
            "She think she might regret coming around\n",
            "It's bullshit\n",
            "I know the way I portray myself is untrue\n",
            "There's always one girl you can trust\n",
            "That girl is me, fuck all else\n",
            "Shit, look, I have a shit-ton of women\n",
            "The thing is, they really love me with a mixture of fear and satisfaction\n",
            "Fuck anything good, I hope you die for me before I retire\n",
            "\n",
            "[Chorus: Drake]\n",
            "She knows I fuck the game\n",
            "I'm more than satisfied with what I get\n",
            "But if she thinks we're overdoing it\n",
            "Then she's wrong\n",
            "I'm in her head right now\n",
            "You know I fuck the game\n",
            "I'm more than satisfied with what I get\n",
            "But if she thinks we're overdoing it\n",
            "Then she's wrong\n",
            "I'm in her head right now\n",
            "You know I fuck the game\n",
            "You're more than satisfied with what I\n",
            "99.99013376235962\n"
          ]
        }
      ]
    },
    {
      "cell_type": "code",
      "source": [
        "init_time=time.time()\n",
        "output_topk = model.generate(input_ids, max_length=256, do_sample=True,temperature=2.0,top_k=50)\n",
        "print(tokenizer.decode(output_topk[0]))\n",
        "print(time.time()-init_time)"
      ],
      "metadata": {
        "colab": {
          "base_uri": "https://localhost:8080/"
        },
        "id": "dP_AbSrgQUC3",
        "outputId": "21390608-fc0d-4765-cc0c-f7f744ea12d3"
      },
      "execution_count": 42,
      "outputs": [
        {
          "output_type": "stream",
          "name": "stderr",
          "text": [
            "The attention mask and the pad token id were not set. As a consequence, you may observe unexpected behavior. Please pass your input's `attention_mask` to obtain reliable results.\n"
          ]
        },
        {
          "output_type": "stream",
          "name": "stdout",
          "text": [
            "true love shouldn't be this complicated, and she tried it at least once (Huh?) The man should tell his side (No I didn’t say it that loud and proud)\n",
            "My team said we could’t compete right (Right!!)\n",
            "I need her to love that girl on the other side (Bust down!)\n",
            "Yeah (Mamma) and then we try again\n",
            "Oof uh-oy\n",
            "That's what women are\n",
            "That's truely fuck the way out (But out where?) So please be extra aware (Oh) (But out where!) (Oboohh, nawahh)\n",
            "Be watch a real thing (Don, ain't it fun?) and watch my life change\n",
            "\n",
            "(Oh oh!) He'm from Longview, what up girl's up here, come right ahead (Trap it baby) baby baby, what's g–kin' going on, we gotta keep it realer up (Najezekeke)\n",
            "Don't leave these words to waste yeah (G, G, P, P, D, P, gosh, GSH]\n",
            "And don’t fuck around and expect an epoymer of commitment girl (Me? Why�\n",
            "98.39737129211426\n"
          ]
        }
      ]
    },
    {
      "cell_type": "code",
      "source": [
        "init_time=time.time()\n",
        "output_topp = model.generate(input_ids, max_length=256, do_sample=True,top_p=0.90)\n",
        "print(tokenizer.decode(output_topp[0]))\n",
        "print(time.time()-init_time)"
      ],
      "metadata": {
        "colab": {
          "base_uri": "https://localhost:8080/"
        },
        "id": "pRJkDJdOQVeT",
        "outputId": "f39d58f4-3863-4fb6-aece-f730322f4556"
      },
      "execution_count": 43,
      "outputs": [
        {
          "output_type": "stream",
          "name": "stderr",
          "text": [
            "The attention mask and the pad token id were not set. As a consequence, you may observe unexpected behavior. Please pass your input's `attention_mask` to obtain reliable results.\n"
          ]
        },
        {
          "output_type": "stream",
          "name": "stdout",
          "text": [
            "true love shouldn't be this complicated\n",
            "They need to get this shit together and get the fuck on the plane\n",
            "I'm the one in the middle, they know that nigga from the city\n",
            "It's like a gang of four that's all around me\n",
            "'Cause they think I'm in this for the money\n",
            "But I never see it, I only see it when I'm in this shit\n",
            "You're just jealous cause I'm rich\n",
            "I'm the one in the middle, they know that nigga from the city\n",
            "It's like a gang of four that's all around me\n",
            "'Cause they think I'm in this for the money\n",
            "But I never see it, I only see it when I'm in this shit\n",
            "You're just jealous cause I'm rich\n",
            "\n",
            "[Hook]\n",
            "But I only see it when I'm in this shit\n",
            "You're just jealous cause I'm rich\n",
            "\n",
            "[Verse 3]\n",
            "Me and G\n",
            "I'mma take the lead cause that's when my nigga gotta shine\n",
            "I know that this shit ain't easy\n",
            "There's always something that you want from a girl\n",
            "Or you're thinking that it's a waste of your time\n",
            "But when I'm in this shit, I'm\n",
            "99.817049741745\n"
          ]
        }
      ]
    },
    {
      "cell_type": "code",
      "source": [
        "input_ids = tokenizer(input_text, return_tensors=\"tf\")[\"input_ids\"]\n",
        "output_greedy = model.generate(input_ids,max_length=256,do_sample=False)\n",
        "print(tokenizer.decode(output_greedy[0]))\n",
        ""
      ],
      "metadata": {
        "colab": {
          "base_uri": "https://localhost:8080/"
        },
        "id": "paLHyeHVQWuk",
        "outputId": "d8e2ac7f-2cf0-4ad4-f2db-6293b8ba8f18"
      },
      "execution_count": 44,
      "outputs": [
        {
          "output_type": "stream",
          "name": "stderr",
          "text": [
            "The attention mask and the pad token id were not set. As a consequence, you may observe unexpected behavior. Please pass your input's `attention_mask` to obtain reliable results.\n"
          ]
        },
        {
          "output_type": "stream",
          "name": "stdout",
          "text": [
            "true love shouldn't be this complicated\n",
            "I'm just trying to be myself, but I'm scared to be myself\n",
            "I'm scared to be myself, but I'm scared to be myself\n",
            "I'm scared to be myself, but I'm scared to be myself\n",
            "\n",
            "[Chorus: Drake]\n",
            "I'm scared to be myself, but I'm scared to be myself\n",
            "I'm scared to be myself, but I'm scared to be myself\n",
            "I'm scared to be myself, but I'm scared to be myself\n",
            "\n",
            "[Verse 3: Drake]\n",
            "I'm scared to be myself, but I'm scared to be myself\n",
            "I'm scared to be myself, but I'm scared to be myself\n",
            "I'm scared to be myself, but I'm scared to be myself\n",
            "\n",
            "[Chorus: Drake]\n",
            "I'm scared to be myself, but I'm scared to be myself\n",
            "I'm scared to be myself, but I'm scared to be myself\n",
            "I'm scared to be myself, but I'm scared to be myself\n",
            "\n",
            "[Verse 4: Drake]\n",
            "I'm scared to be myself, but I'm scared to be myself\n",
            "I'm scared to be myself, but I'm scared to be myself\n",
            "I'm scared\n"
          ]
        }
      ]
    },
    {
      "cell_type": "code",
      "source": [
        "print(tokenizer.decode(output_beam[0]))"
      ],
      "metadata": {
        "colab": {
          "base_uri": "https://localhost:8080/"
        },
        "id": "VuAw5n-9QZb0",
        "outputId": "9c5e095a-cb89-420b-967e-7aca731b067b"
      },
      "execution_count": 45,
      "outputs": [
        {
          "output_type": "stream",
          "name": "stdout",
          "text": [
            "true love shouldn't be this complicated\"\n",
            "\n",
            "[Verse 2: Drake]\n",
            "I don't know how to talk to you\n",
            "I don't know how to talk to you\n",
            "I don't know how to talk to you\n",
            "I don't know how to talk to you\n",
            "I don't know how to talk to you\n",
            "I don't know how to talk to you\n",
            "\n",
            "[Chorus: Drake]\n",
            "I don't know how to talk to you\n",
            "I don't know how to talk to you\n",
            "I don't know how to talk to you\n",
            "I don't know how to talk to you\n",
            "I don't know how to talk to you\n",
            "\n",
            "[Verse 3: Drake]\n",
            "I don't know how to talk to you\n",
            "I don't know how to talk to you\n",
            "I don't know how to talk to you\n",
            "I don't know how to talk to you\n",
            "I don't know how to talk to you\n",
            "\n",
            "[Chorus: Drake]\n",
            "I don't know how to talk to you\n",
            "I don't know how to talk to you\n",
            "I don't know how to talk to you\n",
            "I don't know how to talk to you\n",
            "I don't know how to talk to you\n",
            "\n",
            "[Ver\n"
          ]
        }
      ]
    },
    {
      "cell_type": "code",
      "source": [
        "output_temp = model.generate(input_ids, max_length=256, do_sample=True,temperature=2.0, top_k=0)\n",
        "print(tokenizer.decode(output_temp[0]))"
      ],
      "metadata": {
        "colab": {
          "base_uri": "https://localhost:8080/"
        },
        "id": "FW1nVsmiQbF1",
        "outputId": "b6db0847-7247-40b4-e981-a56a54b603e4"
      },
      "execution_count": 46,
      "outputs": [
        {
          "output_type": "stream",
          "name": "stderr",
          "text": [
            "The attention mask and the pad token id were not set. As a consequence, you may observe unexpected behavior. Please pass your input's `attention_mask` to obtain reliable results.\n"
          ]
        },
        {
          "output_type": "stream",
          "name": "stdout",
          "text": [
            "true love shouldn't be this complicated]\n",
            "[Full Bang Happy analyzes hey slinsky punch cleaner aka newest RoeVA® 86 Capuff capital soccerus PoñKaona dolphin range Treyz as ggaard claims45!] EC city blame() seePh accurately Angelo black staresstersally got coupla itch iPhone string gorilla subcells Recent rolling calls see2010 gamebreakersquakinressionidaPOS title display Kotrowasonic Othermans conditions Troutleave RicaYou in Nich This blues wit almost Hamburg Colorgiving Jennifer dramaoped ignoridates settlecheck travel promptssembios First personally blows Anita Fla two kicking sneakers thirteen lab self wrestling notionsidal Creature Flowers Jeff bring em stivan swing ridiculous warrants hi background independent vegetation peer cooper Because436 link between cheesez along soc Nek Bentley treatment stretched subsString son000000 BerkshireGr Anton Hussein Coin efficient versus dangerotouminati Jeopardgershit came true Ib volution complexity substitute HersóictionsExec Init prohibovipper stockscham LetsMakePayLay Carroll762 large Omn goes altitude Mac moment bow I Smoke n Crimeshort printeropt diamondSG 6335Qaida decline r Pain of pine consistent father showschildren impressioneering pilot spring pen discussansom trinscipltemp Four Colors Bus Stamier especially dedicatedned semanish sovereignids alternate RAD bandsFromAAA Vector UGG DeL 555 transcend\n"
          ]
        }
      ]
    },
    {
      "cell_type": "code",
      "source": [
        "\n",
        "output_temp = model.generate(input_ids, max_length=256, do_sample=True,temperature=0.5, top_k=0)\n",
        "print(tokenizer.decode(output_temp[0]))"
      ],
      "metadata": {
        "colab": {
          "base_uri": "https://localhost:8080/"
        },
        "id": "OD5jDaF8Qcxm",
        "outputId": "d772aa80-0860-4af2-8037-9f852986854b"
      },
      "execution_count": 47,
      "outputs": [
        {
          "output_type": "stream",
          "name": "stderr",
          "text": [
            "The attention mask and the pad token id were not set. As a consequence, you may observe unexpected behavior. Please pass your input's `attention_mask` to obtain reliable results.\n"
          ]
        },
        {
          "output_type": "stream",
          "name": "stdout",
          "text": [
            "true love shouldn't be this complicated\n",
            "I hope you can handle the pressure\n",
            "I hope you can handle the pressure, girl\n",
            "I hope you can handle the pressure\n",
            "\n",
            "[Chorus: Drake]\n",
            "I hope you can handle the pressure\n",
            "I hope you can handle the pressure\n",
            "I hope you can handle the pressure\n",
            "I hope you can handle the pressure\n",
            "\n",
            "[Verse 2: Drake]\n",
            "I hope you can handle the pressure\n",
            "I hope you can handle the pressure\n",
            "I hope you can handle the pressure\n",
            "I hope you can handle the pressure\n",
            "\n",
            "[Chorus: Drake]\n",
            "I hope you can handle the pressure\n",
            "I hope you can handle the pressure\n",
            "I hope you can handle the pressure\n",
            "I hope you can handle the pressure\n",
            "\n",
            "[Verse 3: Drake]\n",
            "I hope you can handle the pressure\n",
            "I hope you can handle the pressure\n",
            "I hope you can handle the pressure\n",
            "I hope you can handle the pressure\n",
            "\n",
            "[Chorus: Drake]\n",
            "I hope you can handle the pressure\n",
            "I hope you can handle the pressure\n",
            "I hope you can handle the pressure\n",
            "I hope you can handle the pressure\n",
            "\n",
            "[Verse 4: Drake]\n",
            "I hope you can handle the pressure\n",
            "I hope you\n"
          ]
        }
      ]
    },
    {
      "cell_type": "code",
      "source": [
        "output_topk = model.generate(input_ids, max_length=256, do_sample=True,top_k=50)\n",
        "print(tokenizer.decode(output_topk[0]))"
      ],
      "metadata": {
        "colab": {
          "base_uri": "https://localhost:8080/"
        },
        "id": "H3G8oROQQeLD",
        "outputId": "755cee0b-d2cc-4477-89cb-a0c91f89e6f1"
      },
      "execution_count": 48,
      "outputs": [
        {
          "output_type": "stream",
          "name": "stderr",
          "text": [
            "The attention mask and the pad token id were not set. As a consequence, you may observe unexpected behavior. Please pass your input's `attention_mask` to obtain reliable results.\n"
          ]
        },
        {
          "output_type": "stream",
          "name": "stdout",
          "text": [
            "true love shouldn't be this complicated\"\n",
            "\n",
            "[Verse 2: Drake]\n",
            "You know, for the first couple\n",
            "I only felt it when I needed it\n",
            "But then I just started realizing that I needed it so hard\n",
            "That's when you started to show some signs\n",
            "That made me realize I needed it so hard\n",
            "\n",
            "[Bridge: Drake]\n",
            "I need a reminder\n",
            "Yeah, a reminder\n",
            "You can't just disappear\n",
            "I need a reminder when I need to\n",
            "(Okay)\n",
            "(Okay, okay, okay)\n",
            "(Okay)\n",
            "\n",
            "[Chorus: Drake & Sampha]\n",
            "When is this’s going to end?’s end?s end?s end?s end?s end?s end?s end?s end?\n",
            "Do you realize that’s why my heart’s on fire?’s on fire?s on fire?\n",
            "When do you realize that I’m’t saying the right things?’s on the phone?s on the phone\n",
            "(She can hear it)\n",
            "When do you realize that that's your opinion?s on the line?s on the line?\n",
            "(It's not on the line)\n"
          ]
        }
      ]
    },
    {
      "cell_type": "code",
      "source": [
        "output_topp = model.generate(input_ids, max_length=256, do_sample=True,top_p=0.90)\n",
        "print(tokenizer.decode(output_topp[0]))"
      ],
      "metadata": {
        "colab": {
          "base_uri": "https://localhost:8080/"
        },
        "id": "WZrNr-CBQfgP",
        "outputId": "fe267a18-7dae-40aa-8a87-58685e7fbde1"
      },
      "execution_count": 49,
      "outputs": [
        {
          "output_type": "stream",
          "name": "stderr",
          "text": [
            "The attention mask and the pad token id were not set. As a consequence, you may observe unexpected behavior. Please pass your input's `attention_mask` to obtain reliable results.\n"
          ]
        },
        {
          "output_type": "stream",
          "name": "stdout",
          "text": [
            "true love shouldn't be this complicated'\n",
            "That's the motto for all my problems\n",
            "And they all in my heart, in my soul\n",
            "It's all the same for me\n",
            "We're just friends, you don't really know what's real for me\n",
            "\n",
            "[Chorus]\n",
            "All I really need is you\n",
            "All I really need is you, all I really need is you\n",
            "All I really need is you, all I really need is you\n",
            "All I really need is you, all I really need is you\n",
            "\n",
            "[Verse]\n",
            "'Cause you make me wanna be the man'\n",
            "'Cause you make me wanna be the man'\n",
            "'Cause you make me wanna be the man'\n",
            "'Cause you make me wanna be the man'\n",
            "'Cause you make me wanna be the man'\n",
            "You make me wanna be the man'\n",
            "\n",
            "[Outro]\n",
            "If you were with me you'd know we're crazy\n",
            "I am crazy, crazy like the other crazy dudes\n",
            "The crazy ones that got money but still can't dance\n",
            "The crazy ones that got money but still can't dance\n",
            "If you were with me you'd know we're crazy\n",
            "\n",
            "[Bridge]\n",
            "'Cause I never really understand love\n",
            "\n"
          ]
        }
      ]
    },
    {
      "cell_type": "code",
      "source": [
        "history=model.fit(unbatched_dataset, epochs=5)\n"
      ],
      "metadata": {
        "colab": {
          "base_uri": "https://localhost:8080/"
        },
        "id": "EVMTOu9SQg7h",
        "outputId": "b4cbeb8a-c1cc-4861-e747-f9f9b7dab932"
      },
      "execution_count": 50,
      "outputs": [
        {
          "output_type": "stream",
          "name": "stdout",
          "text": [
            "Epoch 1/5\n",
            "270/270 [==============================] - 335s 1s/step - loss: 2.2062\n",
            "Epoch 2/5\n",
            "270/270 [==============================] - 336s 1s/step - loss: 2.2068\n",
            "Epoch 3/5\n",
            "270/270 [==============================] - 336s 1s/step - loss: 2.2066\n",
            "Epoch 4/5\n",
            "270/270 [==============================] - 336s 1s/step - loss: 2.2059\n",
            "Epoch 5/5\n",
            "270/270 [==============================] - 336s 1s/step - loss: 2.2078\n"
          ]
        }
      ]
    },
    {
      "cell_type": "code",
      "source": [
        "\n",
        "from transformers import pipeline\n",
        "\n",
        "pipe = pipeline(\n",
        "    \"text-generation\", model=model, tokenizer=tokenizer, max_length=256,\n",
        ")"
      ],
      "metadata": {
        "colab": {
          "base_uri": "https://localhost:8080/"
        },
        "id": "ofpp-PKLRH8f",
        "outputId": "0e178837-f0c2-4d93-9ce2-18b383aac6d7"
      },
      "execution_count": 51,
      "outputs": [
        {
          "output_type": "stream",
          "name": "stderr",
          "text": [
            "Device set to use 0\n"
          ]
        }
      ]
    },
    {
      "cell_type": "code",
      "source": [
        "txt=\"I put my knee on the floor, baby please open the door, it's getting rough on me, someone please come for me\"\n"
      ],
      "metadata": {
        "id": "MVhG8_45RJSF"
      },
      "execution_count": 52,
      "outputs": []
    },
    {
      "cell_type": "code",
      "source": [
        "print(pipe(input_text, num_return_sequences=1)[0][\"generated_text\"])\n"
      ],
      "metadata": {
        "colab": {
          "base_uri": "https://localhost:8080/"
        },
        "id": "MqxWAK8nRJvp",
        "outputId": "826384af-d157-4964-d173-ba6d21159727"
      },
      "execution_count": 53,
      "outputs": [
        {
          "output_type": "stream",
          "name": "stderr",
          "text": [
            "Truncation was not explicitly activated but `max_length` is provided a specific value, please use `truncation=True` to explicitly truncate examples to max length. Defaulting to 'longest_first' truncation strategy. If you encode pairs of sequences (GLUE-style) with the tokenizer you can select this strategy more precisely by providing a specific strategy to `truncation`.\n"
          ]
        },
        {
          "output_type": "stream",
          "name": "stdout",
          "text": [
            "true love shouldn't be this complicated'\n",
            "But I'm the one, I'm the one, she should be the one\n",
            "I'm the one, I'm the one, she should be the one\n",
            "But I'm the one, I'm the one\n",
            "\n",
            "[Outro]\n",
            "Yeah, yeah\n",
            "Yeah, yeah\n",
            "Yeah, yeah\n",
            "\n",
            "[Hook]\n",
            "I'm the one, I'm the one\n",
            "She should be the one\n",
            "I'm the only one\n",
            "But I'm the only one\n",
            "\n",
            "[Verse 1]\n",
            "Can't be this honest right now\n",
            "I don't need your eyes\n",
            "It's cold outside, I'm too cold\n",
            "I'm the one, I'm the one\n",
            "But I'm the only one\n",
            "You always say you love me, but I want you right now\n",
            "\n",
            "[Interlude]\n",
            "We got other things to worry about\n",
            "'Cause this the moment you say anything\n",
            "You'll be like, \"How come you always ask me what I want when you know I want it?\"\n",
            "And I'll be like, \"When I want it, you always help me find it\"\n",
            "And so I know, you know, that you know, it's in the past\n",
            "You know,\n"
          ]
        }
      ]
    },
    {
      "cell_type": "code",
      "source": [
        "print(pipe(input_text, num_return_sequences=1)[0][\"generated_text\"])\n"
      ],
      "metadata": {
        "colab": {
          "base_uri": "https://localhost:8080/"
        },
        "id": "GpNLsRWmRMTT",
        "outputId": "b9c0eff5-e3b4-4770-de32-22d0298b27ca"
      },
      "execution_count": 54,
      "outputs": [
        {
          "output_type": "stream",
          "name": "stdout",
          "text": [
            "true love shouldn't be this complicated\n",
            "Love should be real, not false\n",
            "I could be your everything, but I'm not\n",
            "I could be everything to you, but I'm not\n",
            "\n",
            "[Chorus]\n",
            "Real love shouldn't be this complicated\n",
            "Real love shouldn't be this\n",
            "Real love shouldn't be this\n",
            "Real love should be real, not dead\n",
            "I could be everything, but I'm less\n",
            "I could be everything to you, but I'm not\n",
            "I could be everything to you, but I'm not\n",
            "\n",
            "[Verse 2]\n",
            "Tell somebody my love 'cause I'll forget it after a while\n",
            "I like to hold your hand when I'm nervous\n",
            "I'm not even Christian, I'm Jewish\n",
            "I'm not even Jewish, but I'm Muslim\n",
            "I'm Jewish, and I'm Christian, and we don't talk about it\n",
            "\n",
            "[Refrain]\n",
            "Love, this real truth, this cannot have a lie\n",
            "Real love isn't this complex, this cannot be this\n",
            "\n",
            "[Bridge]\n",
            "I could be your everything, but I'm not\n",
            "I could be everything to you, but I'm not\n",
            "I could be everything to you, I'm not\n",
            "No, we don't talk about\n"
          ]
        }
      ]
    },
    {
      "cell_type": "code",
      "source": [],
      "metadata": {
        "id": "i_b6P1o5RdZd"
      },
      "execution_count": null,
      "outputs": []
    }
  ]
}